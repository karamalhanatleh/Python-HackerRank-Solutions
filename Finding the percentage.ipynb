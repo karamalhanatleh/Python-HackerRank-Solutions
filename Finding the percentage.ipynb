{
 "cells": [
  {
   "cell_type": "markdown",
   "id": "a7813484",
   "metadata": {},
   "source": [
    "# Finding the percentage"
   ]
  },
  {
   "cell_type": "markdown",
   "id": "5f2c5d0a",
   "metadata": {},
   "source": [
    "The provided code stub will read in a dictionary containing key/value pairs of name:[marks] for a list of students. Print the average of the marks array for the student name provided, showing 2 places after the decimal.\n",
    "    \n",
    " \n",
    "Examples\n",
    "marks key:value pairs are\n",
    "'alpha': [20, 30, 40] \n",
    "'beta': [30, 50, 70]\n",
    "query_name = 'beta'\n",
    "The query_name is 'beta'. beta's average score is (30+50+70)/3 = 50.0.\n",
    "\n",
    "\n",
    "Input Format \n",
    "The first line contains the integer n, the number of students' records. The next n lines contain the names and marks obtained by a student, each value separated by a space. The final line contains query_name, the name of a student to query.\n",
    "\n",
    "Constraints \n",
    "2 ≤ n ≤ 10 \n",
    "0≤marks[i] < 100 \n",
    "length of marks arrays = 3\n",
    "\n",
    "\n",
    "Output Format\n",
    "Print one line: The average of the marks obtained by the particular student correct to 2 decimal places. Sample Input O\n",
    "\n",
    "\n",
    "Sample Input 0\n",
    "3\n",
    "Krishna 67 68 69\n",
    "Arjun 70 98 63\n",
    "Malika 52 56 60\n",
    "Malika\n",
    "\n",
    "\n",
    "Sample Output 0\n",
    "56.00\n",
    "\n",
    "\n"
   ]
  },
  {
   "cell_type": "code",
   "execution_count": 11,
   "id": "a21cb3de",
   "metadata": {},
   "outputs": [
    {
     "name": "stdout",
     "output_type": "stream",
     "text": [
      "3\n",
      "Ali 50 60 70\n",
      "khaled 55 65 75\n",
      "asd 90 80 70\n",
      "asd\n",
      "80.00\n"
     ]
    }
   ],
   "source": [
    "if __name__ == '__main__':\n",
    "    n = int(input())\n",
    "    student_marks = {}\n",
    "    for _ in range(n):\n",
    "        name, *line = input().split()\n",
    "        scores = list(map(float, line))\n",
    "        student_marks[name] = scores\n",
    "    query_name = input()\n",
    "    sum_marks= sum(student_marks[query_name])\n",
    "    count_list=len(student_marks[query_name])\n",
    "    \n",
    "    average=sum_marks/count_list\n",
    "    \n",
    "    \n",
    "    print(f\"{average:.2f}\")\n"
   ]
  },
  {
   "cell_type": "code",
   "execution_count": 10,
   "id": "a95a4f55",
   "metadata": {},
   "outputs": [
    {
     "data": {
      "text/plain": [
       "70.0"
      ]
     },
     "execution_count": 10,
     "metadata": {},
     "output_type": "execute_result"
    }
   ],
   "source": []
  },
  {
   "cell_type": "code",
   "execution_count": null,
   "id": "702d2ded",
   "metadata": {},
   "outputs": [],
   "source": []
  }
 ],
 "metadata": {
  "kernelspec": {
   "display_name": "Python 3 (ipykernel)",
   "language": "python",
   "name": "python3"
  },
  "language_info": {
   "codemirror_mode": {
    "name": "ipython",
    "version": 3
   },
   "file_extension": ".py",
   "mimetype": "text/x-python",
   "name": "python",
   "nbconvert_exporter": "python",
   "pygments_lexer": "ipython3",
   "version": "3.9.13"
  }
 },
 "nbformat": 4,
 "nbformat_minor": 5
}
