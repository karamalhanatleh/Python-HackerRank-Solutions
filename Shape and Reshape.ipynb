{
 "cells": [
  {
   "cell_type": "markdown",
   "id": "d01bc048",
   "metadata": {},
   "source": [
    "# Shape and Reshape"
   ]
  },
  {
   "cell_type": "raw",
   "id": "68663fa4",
   "metadata": {},
   "source": [
    "Task\n",
    "\n",
    "You are given a space separated list of nine integers. Your task is to convert this list into a X NumPy array.\n",
    "\n",
    "Input Format\n",
    "\n",
    "A single line of input containing  space separated integers.\n",
    "\n",
    "Output Format\n",
    "\n",
    "Print the X NumPy array.\n",
    "\n",
    "Sample Input\n",
    "\n",
    "1 2 3 4 5 6 7 8 9\n",
    "Sample Output\n",
    "\n",
    "[[1 2 3]\n",
    " [4 5 6]\n",
    " [7 8 9]]"
   ]
  },
  {
   "cell_type": "markdown",
   "id": "96fac178",
   "metadata": {},
   "source": [
    " "
   ]
  },
  {
   "cell_type": "code",
   "execution_count": 40,
   "id": "112e5dad",
   "metadata": {},
   "outputs": [],
   "source": [
    "#import paskages \n",
    "\n",
    "import numpy \n"
   ]
  },
  {
   "cell_type": "code",
   "execution_count": 50,
   "id": "0ef9740b",
   "metadata": {},
   "outputs": [
    {
     "name": "stdout",
     "output_type": "stream",
     "text": [
      "1 2 3 4 5 6 7 8 9\n"
     ]
    }
   ],
   "source": [
    "#input and split it \n",
    "input_num=input().split()"
   ]
  },
  {
   "cell_type": "code",
   "execution_count": 51,
   "id": "f913ecb8",
   "metadata": {},
   "outputs": [],
   "source": [
    "# convert each element to in and strot it in list\n",
    "list_n=list(map(int , input_num))\n"
   ]
  },
  {
   "cell_type": "code",
   "execution_count": 52,
   "id": "9756c59a",
   "metadata": {},
   "outputs": [],
   "source": [
    "#convert list to array\n",
    "arr=numpy.array(list_n)\n"
   ]
  },
  {
   "cell_type": "code",
   "execution_count": 53,
   "id": "4da8ccea",
   "metadata": {},
   "outputs": [
    {
     "name": "stdout",
     "output_type": "stream",
     "text": [
      "[[1 2 3]\n",
      " [4 5 6]\n",
      " [7 8 9]]\n"
     ]
    }
   ],
   "source": [
    "#reshape \n",
    "print(numpy.reshape(arr ,(3,3)))"
   ]
  },
  {
   "cell_type": "code",
   "execution_count": null,
   "id": "7a00f96a",
   "metadata": {},
   "outputs": [],
   "source": []
  }
 ],
 "metadata": {
  "kernelspec": {
   "display_name": "Python 3 (ipykernel)",
   "language": "python",
   "name": "python3"
  },
  "language_info": {
   "codemirror_mode": {
    "name": "ipython",
    "version": 3
   },
   "file_extension": ".py",
   "mimetype": "text/x-python",
   "name": "python",
   "nbconvert_exporter": "python",
   "pygments_lexer": "ipython3",
   "version": "3.9.13"
  }
 },
 "nbformat": 4,
 "nbformat_minor": 5
}
