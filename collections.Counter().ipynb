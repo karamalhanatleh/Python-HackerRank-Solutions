{
 "cells": [
  {
   "cell_type": "raw",
   "id": "10051040",
   "metadata": {},
   "source": [
    "collections.Counter()\n",
    "A counter is a container that stores elements as dictionary keys, and their counts are stored as dictionary values.\n",
    "\n",
    "Sample Code\n",
    "\n",
    ">>> from collections import Counter\n",
    ">>> \n",
    ">>> myList = [1,1,2,3,4,5,3,2,3,4,2,1,2,3]\n",
    ">>> print Counter(myList)\n",
    "Counter({2: 4, 3: 4, 1: 3, 4: 2, 5: 1})\n",
    ">>>\n",
    ">>> print Counter(myList).items()\n",
    "[(1, 3), (2, 4), (3, 4), (4, 2), (5, 1)]\n",
    ">>> \n",
    ">>> print Counter(myList).keys()\n",
    "[1, 2, 3, 4, 5]\n",
    ">>> \n",
    ">>> print Counter(myList).values()\n",
    "[3, 4, 4, 2, 1]\n",
    "Task\n",
    "\n",
    " is a shoe shop owner. His shop has  number of shoes.\n",
    "He has a list containing the size of each shoe he has in his shop.\n",
    "There are  number of customers who are willing to pay  amount of money only if they get the shoe of their desired size.\n",
    "\n",
    "Your task is to compute how much money  earned.\n",
    "\n",
    "Input Format\n",
    "\n",
    "The first line contains , the number of shoes.\n",
    "The second line contains the space separated list of all the shoe sizes in the shop.\n",
    "The third line contains , the number of customers.\n",
    "The next  lines contain the space separated values of the  desired by the customer and , the price of the shoe.\n",
    "\n",
    "Constraints\n",
    "\n",
    "\n",
    "\n",
    "\n",
    "\n",
    "Output Format\n",
    "\n",
    "Print the amount of money earned by .\n",
    "\n",
    "Sample Input\n",
    "\n",
    "10\n",
    "2 3 4 5 6 8 7 6 5 18\n",
    "6\n",
    "6 55\n",
    "6 45\n",
    "6 55\n",
    "4 40\n",
    "18 60\n",
    "10 50\n",
    "Sample Output\n",
    "\n",
    "200\n",
    "Explanation\n",
    "\n",
    "Customer 1: Purchased size 6 shoe for $55.\n",
    "Customer 2: Purchased size 6 shoe for $45.\n",
    "Customer 3: Size 6 no longer available, so no purchase.\n",
    "Customer 4: Purchased size 4 shoe for $40.\n",
    "Customer 5: Purchased size 18 shoe for $60.\n",
    "Customer 6: Size 10 not available, so no purchase."
   ]
  },
  {
   "cell_type": "code",
   "execution_count": 4,
   "id": "c6aeb4eb",
   "metadata": {},
   "outputs": [],
   "source": [
    "from collections import Counter"
   ]
  },
  {
   "cell_type": "code",
   "execution_count": 9,
   "id": "232e932d",
   "metadata": {},
   "outputs": [
    {
     "name": "stdout",
     "output_type": "stream",
     "text": [
      "10\n",
      "2 3 4 5 6 8 7 6 5 18\n",
      "6\n"
     ]
    }
   ],
   "source": [
    "n_sh=int(input())\n",
    "sizes=list(map(int,input().split()))\n",
    "n_c=int(input())"
   ]
  },
  {
   "cell_type": "code",
   "execution_count": 11,
   "id": "c0c0b131",
   "metadata": {},
   "outputs": [
    {
     "data": {
      "text/plain": [
       "Counter({2: 1, 3: 1, 4: 1, 5: 2, 6: 2, 8: 1, 7: 1, 18: 1})"
      ]
     },
     "execution_count": 11,
     "metadata": {},
     "output_type": "execute_result"
    }
   ],
   "source": [
    "#  Counter to count shoe sizes\n",
    "inv=Counter(sizes)\n",
    "inv"
   ]
  },
  {
   "cell_type": "code",
   "execution_count": 12,
   "id": "cd5fac0e",
   "metadata": {},
   "outputs": [],
   "source": [
    "total_cost=0\n"
   ]
  },
  {
   "cell_type": "code",
   "execution_count": 17,
   "id": "0da17623",
   "metadata": {},
   "outputs": [
    {
     "name": "stdout",
     "output_type": "stream",
     "text": [
      "6 55\n",
      "6 45\n",
      "6 55\n",
      "6 40\n",
      "18 60\n",
      "10 50\n"
     ]
    }
   ],
   "source": [
    "for _ in range(n_c):\n",
    "    size,price = map(int,input().split())\n",
    "    if inv[size]>0:\n",
    "        total_cost+=price\n",
    "        inv[size]-=1"
   ]
  },
  {
   "cell_type": "code",
   "execution_count": 18,
   "id": "7c804018",
   "metadata": {},
   "outputs": [
    {
     "name": "stdout",
     "output_type": "stream",
     "text": [
      "160\n"
     ]
    }
   ],
   "source": [
    "print(total_cost)"
   ]
  },
  {
   "cell_type": "code",
   "execution_count": null,
   "id": "a4d30234",
   "metadata": {},
   "outputs": [],
   "source": []
  }
 ],
 "metadata": {
  "kernelspec": {
   "display_name": "Python 3 (ipykernel)",
   "language": "python",
   "name": "python3"
  },
  "language_info": {
   "codemirror_mode": {
    "name": "ipython",
    "version": 3
   },
   "file_extension": ".py",
   "mimetype": "text/x-python",
   "name": "python",
   "nbconvert_exporter": "python",
   "pygments_lexer": "ipython3",
   "version": "3.9.13"
  }
 },
 "nbformat": 4,
 "nbformat_minor": 5
}
