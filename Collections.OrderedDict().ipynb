{
 "cells": [
  {
   "cell_type": "markdown",
   "id": "14129f9e",
   "metadata": {},
   "source": [
    "# Collections.OrderedDict()"
   ]
  },
  {
   "cell_type": "raw",
   "id": "5d69fe61",
   "metadata": {},
   "source": [
    "collections.OrderedDict\n",
    "An OrderedDict is a dictionary that remembers the order of the keys that were inserted first. If a new entry overwrites an existing entry, the original insertion position is left unchanged.\n",
    "\n",
    "Example\n",
    "\n",
    "Code\n",
    "\n",
    ">>> from collections import OrderedDict\n",
    ">>> \n",
    ">>> ordinary_dictionary = {}\n",
    ">>> ordinary_dictionary['a'] = 1\n",
    ">>> ordinary_dictionary['b'] = 2\n",
    ">>> ordinary_dictionary['c'] = 3\n",
    ">>> ordinary_dictionary['d'] = 4\n",
    ">>> ordinary_dictionary['e'] = 5\n",
    ">>> \n",
    ">>> print ordinary_dictionary\n",
    "{'a': 1, 'c': 3, 'b': 2, 'e': 5, 'd': 4}\n",
    ">>> \n",
    ">>> ordered_dictionary = OrderedDict()\n",
    ">>> ordered_dictionary['a'] = 1\n",
    ">>> ordered_dictionary['b'] = 2\n",
    ">>> ordered_dictionary['c'] = 3\n",
    ">>> ordered_dictionary['d'] = 4\n",
    ">>> ordered_dictionary['e'] = 5\n",
    ">>> \n",
    ">>> print ordered_dictionary\n",
    "OrderedDict([('a', 1), ('b', 2), ('c', 3), ('d', 4), ('e', 5)])\n",
    "Task\n",
    "\n",
    "You are the manager of a supermarket.\n",
    "You have a list of  items together with their prices that consumers bought on a particular day.\n",
    "Your task is to print each item_name and net_price in order of its first occurrence.\n",
    "\n",
    "item_name = Name of the item.\n",
    "net_price = Quantity of the item sold multiplied by the price of each item.\n",
    "\n",
    "Input Format\n",
    "\n",
    "The first line contains the number of items, .\n",
    "The next  lines contains the item's name and price, separated by a space.\n",
    "\n",
    "Constraints\n",
    "\n",
    "\n",
    "Output Format\n",
    "\n",
    "Print the item_name and net_price in order of its first occurrence.\n",
    "\n",
    "Sample Input\n",
    "\n",
    "9\n",
    "BANANA FRIES 12\n",
    "POTATO CHIPS 30\n",
    "APPLE JUICE 10\n",
    "CANDY 5\n",
    "APPLE JUICE 10\n",
    "CANDY 5\n",
    "CANDY 5\n",
    "CANDY 5\n",
    "POTATO CHIPS 30\n",
    "Sample Output\n",
    "\n",
    "BANANA FRIES 12\n",
    "POTATO CHIPS 60\n",
    "APPLE JUICE 20\n",
    "CANDY 20\n",
    "Explanation\n",
    "\n",
    "BANANA FRIES: Quantity bought: , Price: \n",
    "Net Price: \n",
    "POTATO CHIPS: Quantity bought: , Price: \n",
    "Net Price: \n",
    "APPLE JUICE: Quantity bought: , Price: \n",
    "Net Price: \n",
    "CANDY: Quantity bought: , Price: \n",
    "Net Price: \n",
    "\n",
    "Language\n",
    "Python 3\n",
    "More\n",
    "12345678910111213141516171819202122232425\n",
    "\n",
    "# Output the item names and their corresponding net prices\n",
    "for item, net_price in items.items():\n",
    "    print(f\"{item} {net_price}\")\n",
    "\n",
    "Line: 25 Col: 1\n",
    "\n",
    "Test against custom input\n",
    "Python\n",
    "You have earned 20.00 points!\n",
    "58/115 challenges solved.\n",
    "50%\n",
    "Congratulations\n",
    "You solved this challenge. Would you like to challenge your friends?Share on FacebookShare on TwitterShare on LinkedIn\n",
    "\n",
    "Test case 0\n",
    "\n",
    "Test case 1\n",
    "\n",
    "Test case 2\n",
    "\n",
    "Test case 3\n",
    "\n",
    "Test case 4\n",
    "\n",
    "Test case 5\n",
    "Compiler Message\n",
    "Success\n",
    "Input (stdin)\n",
    "9\n",
    "BANANA FRIES 12\n",
    "POTATO CHIPS 30\n",
    "APPLE JUICE 10\n",
    "CANDY 5\n",
    "APPLE JUICE 10\n",
    "CANDY 5\n",
    "CANDY 5\n",
    "CANDY 5\n",
    "POTATO CHIPS 30\n",
    "Expected Output\n",
    "BANANA FRIES 12\n",
    "POTATO CHIPS 60\n",
    "APPLE JUICE 20\n",
    "CANDY 20\n"
   ]
  },
  {
   "cell_type": "code",
   "execution_count": null,
   "id": "94f19749",
   "metadata": {},
   "outputs": [],
   "source": []
  },
  {
   "cell_type": "code",
   "execution_count": 31,
   "id": "7172f451",
   "metadata": {},
   "outputs": [],
   "source": [
    "#import paskages\n",
    "from collections import OrderedDict"
   ]
  },
  {
   "cell_type": "code",
   "execution_count": 32,
   "id": "a463d6e5",
   "metadata": {},
   "outputs": [],
   "source": [
    "items = OrderedDict()"
   ]
  },
  {
   "cell_type": "code",
   "execution_count": 33,
   "id": "adcb4bcd",
   "metadata": {},
   "outputs": [
    {
     "name": "stdout",
     "output_type": "stream",
     "text": [
      "6\n"
     ]
    }
   ],
   "source": [
    "# read N items\n",
    "n=int(input())"
   ]
  },
  {
   "cell_type": "code",
   "execution_count": 35,
   "id": "2b5ba3a7",
   "metadata": {},
   "outputs": [
    {
     "name": "stdout",
     "output_type": "stream",
     "text": [
      "T 10\n",
      "B 5\n",
      "B 5\n",
      "T 10\n",
      "C 20\n",
      "CD 30\n"
     ]
    }
   ],
   "source": [
    "for _ in range(n):\n",
    "    item,price=input().rsplit(maxsplit=1)\n",
    "    price = int(price)\n",
    "    \n",
    "    if item in items:\n",
    "        items[item]+=price\n",
    "    else:\n",
    "        items[item]=price\n",
    "        "
   ]
  },
  {
   "cell_type": "code",
   "execution_count": 36,
   "id": "26fe9bca",
   "metadata": {},
   "outputs": [
    {
     "name": "stdout",
     "output_type": "stream",
     "text": [
      "T 20\n",
      "B 10\n",
      "C 20\n",
      "CD 30\n"
     ]
    }
   ],
   "source": [
    "for item , pric in items.items():\n",
    "    print(f\"{item} {pric}\")"
   ]
  },
  {
   "cell_type": "code",
   "execution_count": null,
   "id": "a3a50224",
   "metadata": {},
   "outputs": [],
   "source": []
  },
  {
   "cell_type": "code",
   "execution_count": null,
   "id": "357948eb",
   "metadata": {},
   "outputs": [],
   "source": []
  },
  {
   "cell_type": "code",
   "execution_count": null,
   "id": "9bd8e6cf",
   "metadata": {},
   "outputs": [],
   "source": []
  },
  {
   "cell_type": "code",
   "execution_count": null,
   "id": "2b1e231a",
   "metadata": {},
   "outputs": [],
   "source": []
  }
 ],
 "metadata": {
  "kernelspec": {
   "display_name": "Python 3 (ipykernel)",
   "language": "python",
   "name": "python3"
  },
  "language_info": {
   "codemirror_mode": {
    "name": "ipython",
    "version": 3
   },
   "file_extension": ".py",
   "mimetype": "text/x-python",
   "name": "python",
   "nbconvert_exporter": "python",
   "pygments_lexer": "ipython3",
   "version": "3.9.13"
  }
 },
 "nbformat": 4,
 "nbformat_minor": 5
}
