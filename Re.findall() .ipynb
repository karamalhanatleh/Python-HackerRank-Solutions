{
 "cells": [
  {
   "cell_type": "raw",
   "id": "885eb623",
   "metadata": {},
   "source": [
    "Task\n",
    "You are given a string . It consists of alphanumeric characters, spaces and symbols(+,-).\n",
    "Your task is to find all the substrings of  that contains  or more vowels.\n",
    "Also, these substrings must lie in between  consonants and should contain vowels only.\n",
    "\n",
    "Note :\n",
    "Vowels are defined as: AEIOU and aeiou.\n",
    "Consonants are defined as: QWRTYPSDFGHJKLZXCVBNM and qwrtypsdfghjklzxcvbnm.\n",
    "\n",
    "Input Format\n",
    "\n",
    "A single line of input containing string .\n",
    "\n",
    "Constraints\n",
    "\n",
    "\n",
    "Output Format\n",
    "\n",
    "Print the matched substrings in their order of occurrence on separate lines.\n",
    "If no match is found, print -1.\n",
    "\n",
    "Sample Input\n",
    "\n",
    "rabcdeefgyYhFjkIoomnpOeorteeeeet\n",
    "Sample Output\n",
    "\n",
    "ee\n",
    "Ioo\n",
    "Oeo\n",
    "eeeee\n",
    "Explanation\n",
    "\n",
    "ee is located between consonant  and .\n",
    "Ioo is located between consonant  and .\n",
    "Oeo is located between consonant  and .\n",
    "eeeee is located between consonant  and ."
   ]
  },
  {
   "cell_type": "code",
   "execution_count": null,
   "id": "de37bef6",
   "metadata": {},
   "outputs": [],
   "source": []
  },
  {
   "cell_type": "code",
   "execution_count": null,
   "id": "6134dfd4",
   "metadata": {},
   "outputs": [],
   "source": []
  },
  {
   "cell_type": "code",
   "execution_count": 27,
   "id": "e1055705",
   "metadata": {},
   "outputs": [],
   "source": [
    "import re"
   ]
  },
  {
   "cell_type": "code",
   "execution_count": 46,
   "id": "674fd9e3",
   "metadata": {},
   "outputs": [],
   "source": [
    "s = \"rabcdeefgyYhFjkIoomnpOeorteeeeet\"\n"
   ]
  },
  {
   "cell_type": "code",
   "execution_count": 48,
   "id": "38e83288",
   "metadata": {},
   "outputs": [],
   "source": [
    " # Define the vowels and consonants\n",
    "vowels = r'[aeiouAEIOU]'\n",
    "consonants = r'[qwrtypsdfghjklzxcvbnmQWRTYPSDFGHJKLZXCVBNM]'"
   ]
  },
  {
   "cell_type": "code",
   "execution_count": 51,
   "id": "880202f2",
   "metadata": {},
   "outputs": [],
   "source": [
    "# Regular expression pattern\n",
    "patterns=rf'(?<={consonants})({vowels}{{2,}})(?={consonants})'"
   ]
  },
  {
   "cell_type": "code",
   "execution_count": 54,
   "id": "b5fb19ca",
   "metadata": {},
   "outputs": [],
   "source": [
    "# Find all matching substrings\n",
    "\n",
    "matches=re.findall(patterns,s)"
   ]
  },
  {
   "cell_type": "code",
   "execution_count": 55,
   "id": "ca10c348",
   "metadata": {},
   "outputs": [
    {
     "name": "stdout",
     "output_type": "stream",
     "text": [
      "ee\n",
      "Ioo\n",
      "Oeo\n",
      "eeeee\n"
     ]
    }
   ],
   "source": [
    "# Output the result\n",
    "if matches:\n",
    "    for m in matches:\n",
    "        print(m)\n",
    "else:\n",
    "    print(-1)"
   ]
  },
  {
   "cell_type": "code",
   "execution_count": null,
   "id": "62198505",
   "metadata": {},
   "outputs": [],
   "source": []
  },
  {
   "cell_type": "code",
   "execution_count": null,
   "id": "adfdaa15",
   "metadata": {},
   "outputs": [],
   "source": []
  }
 ],
 "metadata": {
  "kernelspec": {
   "display_name": "Python 3 (ipykernel)",
   "language": "python",
   "name": "python3"
  },
  "language_info": {
   "codemirror_mode": {
    "name": "ipython",
    "version": 3
   },
   "file_extension": ".py",
   "mimetype": "text/x-python",
   "name": "python",
   "nbconvert_exporter": "python",
   "pygments_lexer": "ipython3",
   "version": "3.9.13"
  }
 },
 "nbformat": 4,
 "nbformat_minor": 5
}
