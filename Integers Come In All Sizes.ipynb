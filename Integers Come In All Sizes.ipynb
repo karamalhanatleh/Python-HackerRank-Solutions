{
 "cells": [
  {
   "cell_type": "markdown",
   "id": "941729ef",
   "metadata": {},
   "source": [
    "# Integers Come In All Sizes"
   ]
  },
  {
   "cell_type": "raw",
   "id": "994ec6e9",
   "metadata": {},
   "source": [
    "Integers in Python can be as big as the bytes in your machine's memory. There is no limit in size as there is:  (c++ int) or  (C++ long long int).\n",
    "\n",
    "As we know, the result of  grows really fast with increasing .\n",
    "\n",
    "Let's do some calculations on very large integers.\n",
    "\n",
    "Task\n",
    "Read four numbers, , , , and , and print the result of .\n",
    "\n",
    "Input Format\n",
    "Integers , , , and  are given on four separate lines, respectively.\n",
    "\n",
    "Constraints\n",
    "\n",
    "\n",
    "\n",
    "\n",
    "Output Format\n",
    "Print the result of  on one line.\n",
    "\n",
    "Sample Input\n",
    "\n",
    "9\n",
    "29\n",
    "7\n",
    "27\n",
    "Sample Output\n",
    "\n",
    "4710194409608608369201743232  \n",
    "Note: This result is bigger than . Hence, it won't fit in the long long int of C++ or a 64-bit integer."
   ]
  },
  {
   "cell_type": "code",
   "execution_count": null,
   "id": "7932d755",
   "metadata": {},
   "outputs": [],
   "source": []
  },
  {
   "cell_type": "code",
   "execution_count": 1,
   "id": "c8d9ceb6",
   "metadata": {},
   "outputs": [
    {
     "name": "stdout",
     "output_type": "stream",
     "text": [
      "2\n",
      "3\n",
      "4\n",
      "5\n",
      "1032\n"
     ]
    }
   ],
   "source": [
    "# Enter your code here. Read input from STDIN. Print output to STDOUT\n",
    "a=int(input())\n",
    "b=int(input())\n",
    "c=int(input())\n",
    "d=int(input())\n",
    "\n",
    "print((a**b)+(c**d)  )"
   ]
  },
  {
   "cell_type": "code",
   "execution_count": null,
   "id": "76e610cd",
   "metadata": {},
   "outputs": [],
   "source": []
  },
  {
   "cell_type": "code",
   "execution_count": null,
   "id": "c18b3039",
   "metadata": {},
   "outputs": [],
   "source": []
  },
  {
   "cell_type": "code",
   "execution_count": null,
   "id": "e65978bc",
   "metadata": {},
   "outputs": [],
   "source": []
  },
  {
   "cell_type": "code",
   "execution_count": null,
   "id": "82c53120",
   "metadata": {},
   "outputs": [],
   "source": []
  },
  {
   "cell_type": "code",
   "execution_count": null,
   "id": "80aafa93",
   "metadata": {},
   "outputs": [],
   "source": []
  },
  {
   "cell_type": "code",
   "execution_count": null,
   "id": "a9f7d198",
   "metadata": {},
   "outputs": [],
   "source": []
  },
  {
   "cell_type": "code",
   "execution_count": null,
   "id": "322a3e51",
   "metadata": {},
   "outputs": [],
   "source": []
  },
  {
   "cell_type": "code",
   "execution_count": null,
   "id": "e38ccac0",
   "metadata": {},
   "outputs": [],
   "source": []
  }
 ],
 "metadata": {
  "kernelspec": {
   "display_name": "Python 3 (ipykernel)",
   "language": "python",
   "name": "python3"
  },
  "language_info": {
   "codemirror_mode": {
    "name": "ipython",
    "version": 3
   },
   "file_extension": ".py",
   "mimetype": "text/x-python",
   "name": "python",
   "nbconvert_exporter": "python",
   "pygments_lexer": "ipython3",
   "version": "3.9.13"
  }
 },
 "nbformat": 4,
 "nbformat_minor": 5
}
