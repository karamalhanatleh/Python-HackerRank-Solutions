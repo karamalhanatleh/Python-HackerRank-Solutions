{
 "cells": [
  {
   "cell_type": "markdown",
   "id": "6a2de312",
   "metadata": {},
   "source": [
    "# Floor, Ceil and Rint"
   ]
  },
  {
   "cell_type": "raw",
   "id": "4ff8a008",
   "metadata": {},
   "source": [
    "Task\n",
    "You are given a 1-D array, . Your task is to print the ,  and  of all the elements of .\n",
    "\n",
    "Note\n",
    "In order to get the correct output format, add the line  below the numpy import.\n",
    "\n",
    "Input Format\n",
    "\n",
    "A single line of input containing the space separated elements of array .\n",
    "\n",
    "Output Format\n",
    "\n",
    "On the first line, print the  of A.\n",
    "On the second line, print the  of A.\n",
    "On the third line, print the  of A.\n",
    "\n",
    "Sample Input\n",
    "\n",
    "1.1 2.2 3.3 4.4 5.5 6.6 7.7 8.8 9.9\n",
    "Sample Output\n",
    "\n",
    "[ 1.  2.  3.  4.  5.  6.  7.  8.  9.]\n",
    "[  2.   3.   4.   5.   6.   7.   8.   9.  10.]\n",
    "[  1.   2.   3.   4.   6.   7.   8.   9.  10.]"
   ]
  },
  {
   "cell_type": "markdown",
   "id": "7accc6fb",
   "metadata": {},
   "source": [
    " "
   ]
  },
  {
   "cell_type": "code",
   "execution_count": 2,
   "id": "b5094c63",
   "metadata": {},
   "outputs": [],
   "source": [
    "#import \n",
    "import numpy as np"
   ]
  },
  {
   "cell_type": "code",
   "execution_count": 20,
   "id": "9fc5924f",
   "metadata": {},
   "outputs": [],
   "source": [
    "np.set_printoptions(legacy='1.13')"
   ]
  },
  {
   "cell_type": "code",
   "execution_count": 12,
   "id": "547e0e99",
   "metadata": {},
   "outputs": [
    {
     "name": "stdout",
     "output_type": "stream",
     "text": [
      "1.1 2.2 3.3 4.4 5.5 6.6 7.7 8.8 9.9\n"
     ]
    }
   ],
   "source": [
    "arr = np.array(input().strip().split(), dtype=float)"
   ]
  },
  {
   "cell_type": "code",
   "execution_count": 21,
   "id": "1f723033",
   "metadata": {},
   "outputs": [
    {
     "name": "stdout",
     "output_type": "stream",
     "text": [
      "[ 1.  2.  3.  4.  5.  6.  7.  8.  9.]\n",
      "[  2.   3.   4.   5.   6.   7.   8.   9.  10.]\n",
      "[  1.   2.   3.   4.   6.   7.   8.   9.  10.]\n"
     ]
    }
   ],
   "source": [
    "print(np.floor(arr))\n",
    "print(np.ceil(arr))\n",
    "print(np.rint(arr))"
   ]
  },
  {
   "cell_type": "code",
   "execution_count": null,
   "id": "16183a9a",
   "metadata": {},
   "outputs": [],
   "source": []
  }
 ],
 "metadata": {
  "kernelspec": {
   "display_name": "Python 3 (ipykernel)",
   "language": "python",
   "name": "python3"
  },
  "language_info": {
   "codemirror_mode": {
    "name": "ipython",
    "version": 3
   },
   "file_extension": ".py",
   "mimetype": "text/x-python",
   "name": "python",
   "nbconvert_exporter": "python",
   "pygments_lexer": "ipython3",
   "version": "3.9.13"
  }
 },
 "nbformat": 4,
 "nbformat_minor": 5
}
