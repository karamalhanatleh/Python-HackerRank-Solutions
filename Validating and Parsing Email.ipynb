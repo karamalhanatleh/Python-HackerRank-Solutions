{
 "cells": [
  {
   "cell_type": "raw",
   "id": "6095a030",
   "metadata": {},
   "source": [
    "A valid email address meets the following criteria:\n",
    "\n",
    "It's composed of a username, domain name, and extension assembled in this format: username@domain.extension\n",
    "The username starts with an English alphabetical character, and any subsequent characters consist of one or more of the following: alphanumeric characters, -,., and _.\n",
    "The domain and extension contain only English alphabetical characters.\n",
    "The extension is , , or  characters in length.\n",
    "Given  pairs of names and email addresses as input, print each name and email address pair having a valid email address on a new line.\n",
    "\n",
    "Hint: Try using Email.utils() to complete this challenge. For example, this code:\n",
    "\n",
    "import email.utils\n",
    "print email.utils.parseaddr('DOSHI <DOSHI@hackerrank.com>')\n",
    "print email.utils.formataddr(('DOSHI', 'DOSHI@hackerrank.com'))\n",
    "produces this output:\n",
    "\n",
    "('DOSHI', 'DOSHI@hackerrank.com')\n",
    "DOSHI <DOSHI@hackerrank.com>\n",
    "Input Format\n",
    "\n",
    "The first line contains a single integer, , denoting the number of email address.\n",
    "Each line  of the  subsequent lines contains a name and an email address as two space-separated values following this format:\n",
    "\n",
    "name <user@email.com>\n",
    "Constraints\n",
    "\n",
    "Output Format\n",
    "\n",
    "Print the space-separated name and email address pairs containing valid email addresses only. Each pair must be printed on a new line in the following format:\n",
    "\n",
    "name <user@email.com>\n",
    "You must print each valid email address in the same order as it was received as input.\n",
    "\n",
    "Sample Input\n",
    "\n",
    "2  \n",
    "DEXTER <dexter@hotmail.com>\n",
    "VIRUS <virus!@variable.:p>\n",
    "Sample Output\n",
    "\n",
    "DEXTER <dexter@hotmail.com>\n",
    "Explanation\n",
    "\n",
    "dexter@hotmail.com is a valid email address, so we print the name and email address pair received as input on a new line.\n",
    "virus!@variable.:p is not a valid email address because the username contains an exclamation point (!) and the extension contains a colon (:). As this email is not valid, we print nothing."
   ]
  },
  {
   "cell_type": "code",
   "execution_count": 61,
   "id": "f76b0a83",
   "metadata": {},
   "outputs": [],
   "source": [
    "import re\n",
    "import email.utils"
   ]
  },
  {
   "cell_type": "code",
   "execution_count": 62,
   "id": "ffaba364",
   "metadata": {},
   "outputs": [],
   "source": [
    "def check(email):\n",
    "    pattern = r'^[a-zA-Z][\\w\\.-]+@[a-zA-Z]+\\.[a-zA-Z]{1,4}$'\n",
    "    return re.match(pattern, email)"
   ]
  },
  {
   "cell_type": "code",
   "execution_count": 64,
   "id": "77d73bcc",
   "metadata": {},
   "outputs": [
    {
     "name": "stdout",
     "output_type": "stream",
     "text": [
      "2\n"
     ]
    }
   ],
   "source": [
    "# Number of inputs\n",
    "n = int(input())"
   ]
  },
  {
   "cell_type": "code",
   "execution_count": 65,
   "id": "9fa25305",
   "metadata": {},
   "outputs": [
    {
     "name": "stdout",
     "output_type": "stream",
     "text": [
      "DEXTER <dexter@hotmail.com>\n",
      "DEXTER <dexter@hotmail.com>\n",
      "VIRUS <virus!@variable.:p>\n"
     ]
    }
   ],
   "source": [
    "for _ in range(n):\n",
    "    name, email_addr = email.utils.parseaddr(input())  # Extract name and email using parseaddr\n",
    "    if check(email_addr):  \n",
    "        print(email.utils.formataddr((name, email_addr))) "
   ]
  },
  {
   "cell_type": "code",
   "execution_count": null,
   "id": "8b0b77b8",
   "metadata": {},
   "outputs": [],
   "source": []
  }
 ],
 "metadata": {
  "kernelspec": {
   "display_name": "Python 3 (ipykernel)",
   "language": "python",
   "name": "python3"
  },
  "language_info": {
   "codemirror_mode": {
    "name": "ipython",
    "version": 3
   },
   "file_extension": ".py",
   "mimetype": "text/x-python",
   "name": "python",
   "nbconvert_exporter": "python",
   "pygments_lexer": "ipython3",
   "version": "3.9.13"
  }
 },
 "nbformat": 4,
 "nbformat_minor": 5
}
