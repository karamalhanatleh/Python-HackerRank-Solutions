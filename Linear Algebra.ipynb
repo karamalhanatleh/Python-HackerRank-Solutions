{
 "cells": [
  {
   "cell_type": "markdown",
   "id": "50d53aab",
   "metadata": {},
   "source": [
    "# Linear Algebra"
   ]
  },
  {
   "cell_type": "raw",
   "id": "5ca39033",
   "metadata": {},
   "source": [
    "Task\n",
    "\n",
    "You are given a square matrix  with dimensions X. Your task is to find the determinant. Note: Round the answer to 2 places after the decimal.\n",
    "\n",
    "Input Format\n",
    "\n",
    "The first line contains the integer .\n",
    "The next  lines contains the  space separated elements of array .\n",
    "\n",
    "Output Format\n",
    "\n",
    "Print the determinant of .\n",
    "\n",
    "Sample Input\n",
    "\n",
    "2\n",
    "1.1 1.1\n",
    "1.1 1.1\n",
    "Sample Output\n",
    "\n",
    "0.0"
   ]
  },
  {
   "cell_type": "code",
   "execution_count": null,
   "id": "f1aa3dc2",
   "metadata": {},
   "outputs": [],
   "source": []
  },
  {
   "cell_type": "code",
   "execution_count": 9,
   "id": "dc1e3575",
   "metadata": {},
   "outputs": [
    {
     "name": "stdout",
     "output_type": "stream",
     "text": [
      "2\n",
      "1.1 1.1\n",
      "1.1 1.1\n",
      "0.0\n"
     ]
    }
   ],
   "source": [
    "import numpy\n",
    "\n",
    "\n",
    "import numpy as np\n",
    "\n",
    "# Read  size  \n",
    "n = int(input().strip())\n",
    "\n",
    "#  list to hold the rows \n",
    "matrix = []\n",
    "\n",
    "# : Read  matrix rows\n",
    "for _ in range(n):\n",
    "    row = list(map(float, input().strip().split()))\n",
    "    matrix.append(row)\n",
    "\n",
    "#: Convert  list to  NumPy array\n",
    "matrix = np.array(matrix)\n",
    "\n",
    "# Calculate  determinant\n",
    "determinant = np.linalg.det(matrix)\n",
    "\n",
    "# Round  result to 2 decimal \n",
    "rounded_determinant = round(determinant, 2)\n",
    "\n",
    "# Print the result\n",
    "print(rounded_determinant)\n",
    "\n"
   ]
  },
  {
   "cell_type": "code",
   "execution_count": null,
   "id": "8ebd4b17",
   "metadata": {},
   "outputs": [],
   "source": []
  }
 ],
 "metadata": {
  "kernelspec": {
   "display_name": "Python 3 (ipykernel)",
   "language": "python",
   "name": "python3"
  },
  "language_info": {
   "codemirror_mode": {
    "name": "ipython",
    "version": 3
   },
   "file_extension": ".py",
   "mimetype": "text/x-python",
   "name": "python",
   "nbconvert_exporter": "python",
   "pygments_lexer": "ipython3",
   "version": "3.9.13"
  }
 },
 "nbformat": 4,
 "nbformat_minor": 5
}
