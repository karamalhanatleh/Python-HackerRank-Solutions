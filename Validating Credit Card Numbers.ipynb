{
 "cells": [
  {
   "cell_type": "markdown",
   "id": "81363d7a",
   "metadata": {},
   "source": [
    "# Validating Credit Card Numbers"
   ]
  },
  {
   "cell_type": "raw",
   "id": "00cae352",
   "metadata": {},
   "source": [
    "You and Fredrick are good friends. Yesterday, Fredrick received  credit cards from ABCD Bank. He wants to verify whether his credit card numbers are valid or not. You happen to be great at regex so he is asking for your help!\n",
    "\n",
    "A valid credit card from ABCD Bank has the following characteristics:\n",
    "\n",
    "► It must start with a ,  or .\n",
    "► It must contain exactly  digits.\n",
    "► It must only consist of digits (-).\n",
    "► It may have digits in groups of , separated by one hyphen \"-\".\n",
    "► It must NOT use any other separator like ' ' , '_', etc.\n",
    "► It must NOT have  or more consecutive repeated digits.\n",
    "\n",
    "Examples:\n",
    "\n",
    "Valid Credit Card Numbers\n",
    "\n",
    "4253625879615786\n",
    "4424424424442444\n",
    "5122-2368-7954-3214\n",
    "Invalid Credit Card Numbers\n",
    "\n",
    "42536258796157867       #17 digits in card number → Invalid \n",
    "4424444424442444        #Consecutive digits are repeating 4 or more times → Invalid\n",
    "5122-2368-7954 - 3214   #Separators other than '-' are used → Invalid\n",
    "44244x4424442444        #Contains non digit characters → Invalid\n",
    "0525362587961578        #Doesn't start with 4, 5 or 6 → Invalid\n",
    "Input Format\n",
    "\n",
    "The first line of input contains an integer .\n",
    "The next  lines contain credit card numbers.\n",
    "\n",
    "Constraints\n",
    "\n",
    "\n",
    "Output Format\n",
    "\n",
    "Print 'Valid' if the credit card number is valid. Otherwise, print 'Invalid'. Do not print the quotes.\n",
    "\n",
    "Sample Input\n",
    "\n",
    "6\n",
    "4123456789123456\n",
    "5123-4567-8912-3456\n",
    "61234-567-8912-3456\n",
    "4123356789123456\n",
    "5133-3367-8912-3456\n",
    "5123 - 3567 - 8912 - 3456\n",
    "Sample Output\n",
    "\n",
    "Valid\n",
    "Valid\n",
    "Invalid\n",
    "Valid\n",
    "Invalid\n",
    "Invalid\n",
    "Explanation\n",
    "\n",
    "4123456789123456 : Valid\n",
    "5123-4567-8912-3456 : Valid\n",
    "61234--8912-3456 : Invalid, because the card number is not divided into equal groups of .\n",
    "4123356789123456 : Valid\n",
    "51-67-8912-3456 : Invalid, consecutive digits  is repeating  times.\n",
    "5123456789123456 : Invalid, because space '  ' and - are used as separators."
   ]
  },
  {
   "cell_type": "code",
   "execution_count": null,
   "id": "bfde8141",
   "metadata": {},
   "outputs": [],
   "source": []
  },
  {
   "cell_type": "code",
   "execution_count": 1,
   "id": "490aa966",
   "metadata": {},
   "outputs": [
    {
     "name": "stdout",
     "output_type": "stream",
     "text": [
      "3\n",
      "5123 - 3567 - 8912 - 3456\n",
      "Invalid\n",
      "4123456789123456\n",
      "Valid\n",
      "4123356789123456\n",
      "Valid\n"
     ]
    }
   ],
   "source": [
    "import re\n",
    "\n",
    "def is_valid_credit_card(card_number):\n",
    "    # Define the regular expression for a valid credit card\n",
    "    pattern = r'^(?!.*(\\d)(?:-?\\1){3})[4-6]\\d{3}(-?\\d{4}){3}$'\n",
    "    \n",
    "    # Match the pattern with the provided card number\n",
    "    if re.match(pattern, card_number):\n",
    "        return 'Valid'\n",
    "    else:\n",
    "        return 'Invalid'\n",
    "\n",
    "# Read number of test cases\n",
    "n = int(input())\n",
    "for _ in range(n):\n",
    "    card_number = input().strip()\n",
    "    print(is_valid_credit_card(card_number))\n"
   ]
  },
  {
   "cell_type": "code",
   "execution_count": null,
   "id": "8ea07908",
   "metadata": {},
   "outputs": [],
   "source": []
  },
  {
   "cell_type": "code",
   "execution_count": null,
   "id": "dca8d4f4",
   "metadata": {},
   "outputs": [],
   "source": []
  },
  {
   "cell_type": "code",
   "execution_count": null,
   "id": "309196ea",
   "metadata": {},
   "outputs": [],
   "source": []
  },
  {
   "cell_type": "code",
   "execution_count": null,
   "id": "f788894a",
   "metadata": {},
   "outputs": [],
   "source": []
  },
  {
   "cell_type": "code",
   "execution_count": null,
   "id": "a24966cb",
   "metadata": {},
   "outputs": [],
   "source": []
  }
 ],
 "metadata": {
  "kernelspec": {
   "display_name": "Python 3 (ipykernel)",
   "language": "python",
   "name": "python3"
  },
  "language_info": {
   "codemirror_mode": {
    "name": "ipython",
    "version": 3
   },
   "file_extension": ".py",
   "mimetype": "text/x-python",
   "name": "python",
   "nbconvert_exporter": "python",
   "pygments_lexer": "ipython3",
   "version": "3.9.13"
  }
 },
 "nbformat": 4,
 "nbformat_minor": 5
}
