{
 "cells": [
  {
   "cell_type": "markdown",
   "id": "3ae3892b",
   "metadata": {},
   "source": [
    "# Standardize Mobile Number Using Decorators"
   ]
  },
  {
   "cell_type": "raw",
   "id": "c437cc72",
   "metadata": {},
   "source": [
    "Let's dive into decorators! You are given  mobile numbers. Sort them in ascending order then print them in the standard format shown below:\n",
    "\n",
    "\n",
    "+91 xxxxx xxxxx\n",
    "\n",
    "The given mobile numbers may have ,  or  written before the actual  digit number. Alternatively, there may not be any prefix at all.\n",
    "\n",
    "Input Format\n",
    "\n",
    "The first line of input contains an integer , the number of mobile phone numbers.\n",
    " lines follow each containing a mobile number.\n",
    "\n",
    "Output Format\n",
    "\n",
    "Print  mobile numbers on separate lines in the required format.\n",
    "\n",
    "Sample Input\n",
    "\n",
    "3\n",
    "07895462130\n",
    "919875641230\n",
    "9195969878\n",
    "Sample Output\n",
    "\n",
    "+91 78954 62130\n",
    "+91 91959 69878\n",
    "+91 98756 41230\n",
    "Concept\n",
    "\n",
    "Like most other programming languages, Python has the concept of closures. Extending these closures gives us decorators, which are an invaluable asset. You can learn about decorators in 12 easy steps here.\n",
    "To solve the above question, make a list of the mobile numbers and pass it to a function that sorts the array in ascending order. Make a decorator that standardizes the mobile numbers and apply it to the function."
   ]
  },
  {
   "cell_type": "code",
   "execution_count": null,
   "id": "e4eb16b6",
   "metadata": {},
   "outputs": [],
   "source": []
  },
  {
   "cell_type": "code",
   "execution_count": 54,
   "id": "ed8d52fa",
   "metadata": {
    "scrolled": true
   },
   "outputs": [
    {
     "name": "stdout",
     "output_type": "stream",
     "text": [
      "3\n",
      "07895462130\n",
      "919875641230\n",
      "9195969878\n",
      "+91 78954 62130\n",
      "+91 91959 69878\n",
      "+91 98756 41230\n"
     ]
    }
   ],
   "source": [
    "def wrapper(f):\n",
    "    def fun(l):\n",
    "        # Process each phone number in the list\n",
    "        for i in range(len(l)):\n",
    "            # Case when phone number is 11 digits (assumed to be without country code)\n",
    "            if len(l[i]) == 11:\n",
    "                l[i] = \"+91\" + l[i][1:]\n",
    "            # Case when phone number is 12 digits (assumed to have country code but no '+')\n",
    "            elif len(l[i]) == 12:\n",
    "                l[i] = \"+\" + l[i]\n",
    "            # Case when phone number is 10 digits (without country code)\n",
    "            elif len(l[i]) == 10:\n",
    "                l[i] = \"+91\" + l[i]\n",
    "            # Convert to list for manipulation\n",
    "            l[i] = list(l[i])\n",
    "            # Insert spaces after country code and first five digits\n",
    "            l[i].insert(3, \" \")\n",
    "            l[i].insert(9, \" \")\n",
    "            # Join the list back to a string\n",
    "            l[i] = \"\".join(l[i])\n",
    "        # Call the original function with the formatted list\n",
    "        f(l)\n",
    "    return fun\n",
    "\n",
    "@wrapper\n",
    "def sort_phone(l):\n",
    "    print(*sorted(l), sep='\\n')\n",
    "\n",
    "if __name__ == '__main__':\n",
    "    l = [input() for _ in range(int(input()))]\n",
    "    sort_phone(l) \n",
    "\n",
    "\n"
   ]
  },
  {
   "cell_type": "code",
   "execution_count": null,
   "id": "cee6e599",
   "metadata": {},
   "outputs": [],
   "source": []
  }
 ],
 "metadata": {
  "kernelspec": {
   "display_name": "Python 3 (ipykernel)",
   "language": "python",
   "name": "python3"
  },
  "language_info": {
   "codemirror_mode": {
    "name": "ipython",
    "version": 3
   },
   "file_extension": ".py",
   "mimetype": "text/x-python",
   "name": "python",
   "nbconvert_exporter": "python",
   "pygments_lexer": "ipython3",
   "version": "3.9.13"
  }
 },
 "nbformat": 4,
 "nbformat_minor": 5
}
