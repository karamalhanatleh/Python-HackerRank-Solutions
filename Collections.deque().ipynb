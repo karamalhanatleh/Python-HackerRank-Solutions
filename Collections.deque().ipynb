{
 "cells": [
  {
   "cell_type": "raw",
   "id": "8289bfe2",
   "metadata": {},
   "source": [
    "collections.deque()\n",
    "A deque is a double-ended queue. It can be used to add or remove elements from both ends.\n",
    "\n",
    "Deques support thread safe, memory efficient appends and pops from either side of the deque with approximately the same  performance in either direction.\n",
    "\n",
    "Click on the link to learn more about deque() methods.\n",
    "Click on the link to learn more about various approaches to working with deques: Deque Recipes.\n",
    "\n",
    "Example\n",
    "\n",
    "Code\n",
    "\n",
    ">>> from collections import deque\n",
    ">>> d = deque()\n",
    ">>> d.append(1)\n",
    ">>> print d\n",
    "deque([1])\n",
    ">>> d.appendleft(2)\n",
    ">>> print d\n",
    "deque([2, 1])\n",
    ">>> d.clear()\n",
    ">>> print d\n",
    "deque([])\n",
    ">>> d.extend('1')\n",
    ">>> print d\n",
    "deque(['1'])\n",
    ">>> d.extendleft('234')\n",
    ">>> print d\n",
    "deque(['4', '3', '2', '1'])\n",
    ">>> d.count('1')\n",
    "1\n",
    ">>> d.pop()\n",
    "'1'\n",
    ">>> print d\n",
    "deque(['4', '3', '2'])\n",
    ">>> d.popleft()\n",
    "'4'\n",
    ">>> print d\n",
    "deque(['3', '2'])\n",
    ">>> d.extend('7896')\n",
    ">>> print d\n",
    "deque(['3', '2', '7', '8', '9', '6'])\n",
    ">>> d.remove('2')\n",
    ">>> print d\n",
    "deque(['3', '7', '8', '9', '6'])\n",
    ">>> d.reverse()\n",
    ">>> print d\n",
    "deque(['6', '9', '8', '7', '3'])\n",
    ">>> d.rotate(3)\n",
    ">>> print d\n",
    "deque(['8', '7', '3', '6', '9'])\n",
    "Task\n",
    "\n",
    "Perform append, pop, popleft and appendleft methods on an empty deque .\n",
    "\n",
    "Input Format\n",
    "\n",
    "The first line contains an integer , the number of operations.\n",
    "The next  lines contains the space separated names of methods and their values.\n",
    "\n",
    "Constraints\n",
    "\n",
    "\n",
    "Output Format\n",
    "\n",
    "Print the space separated elements of deque .\n",
    "\n",
    "Sample Input\n",
    "\n",
    "6\n",
    "append 1\n",
    "append 2\n",
    "append 3\n",
    "appendleft 4\n",
    "pop\n",
    "popleft\n",
    "Sample Output\n",
    "\n",
    "1 2"
   ]
  },
  {
   "cell_type": "code",
   "execution_count": null,
   "id": "cf079a22",
   "metadata": {},
   "outputs": [],
   "source": []
  },
  {
   "cell_type": "code",
   "execution_count": 2,
   "id": "f7008fdf",
   "metadata": {},
   "outputs": [],
   "source": [
    "# import paskages \n",
    "from collections import deque\n"
   ]
  },
  {
   "cell_type": "code",
   "execution_count": 3,
   "id": "18e2af6e",
   "metadata": {},
   "outputs": [],
   "source": [
    "d= deque()"
   ]
  },
  {
   "cell_type": "code",
   "execution_count": 4,
   "id": "54413a24",
   "metadata": {},
   "outputs": [
    {
     "name": "stdout",
     "output_type": "stream",
     "text": [
      "6\n"
     ]
    }
   ],
   "source": [
    "# Read  number of operations\n",
    "n = int(input().strip())"
   ]
  },
  {
   "cell_type": "code",
   "execution_count": 7,
   "id": "4874c16b",
   "metadata": {},
   "outputs": [
    {
     "name": "stdout",
     "output_type": "stream",
     "text": [
      "append 1\n",
      "append 2\n",
      "append 3\n",
      "appendleft 4\n",
      "pop\n",
      "popleft\n"
     ]
    }
   ],
   "source": [
    "# opertaion\n",
    "for _ in range(n):\n",
    "    opeation=input().strip().split()\n",
    "    com=opeation[0]\n",
    "    \n",
    "    if com=='append':\n",
    "        d.append(int(opeation[1]))\n",
    "        \n",
    "    elif com=='appendleft':\n",
    "        d.appendleft(int(opeation[1]))\n",
    "        \n",
    "    elif com=='pop':\n",
    "        d.pop()\n",
    "        \n",
    "    elif com == \"popleft\":\n",
    "        d.popleft()\n",
    "\n",
    "        "
   ]
  },
  {
   "cell_type": "code",
   "execution_count": 8,
   "id": "0596f8a8",
   "metadata": {},
   "outputs": [
    {
     "name": "stdout",
     "output_type": "stream",
     "text": [
      "4 4 1 2 3 1 2 1 2\n"
     ]
    }
   ],
   "source": [
    "print(\" \".join(map(str, d)))\n"
   ]
  },
  {
   "cell_type": "code",
   "execution_count": null,
   "id": "860daae9",
   "metadata": {},
   "outputs": [],
   "source": []
  },
  {
   "cell_type": "code",
   "execution_count": null,
   "id": "328becf4",
   "metadata": {},
   "outputs": [],
   "source": []
  },
  {
   "cell_type": "code",
   "execution_count": null,
   "id": "b8667944",
   "metadata": {},
   "outputs": [],
   "source": []
  }
 ],
 "metadata": {
  "kernelspec": {
   "display_name": "Python 3 (ipykernel)",
   "language": "python",
   "name": "python3"
  },
  "language_info": {
   "codemirror_mode": {
    "name": "ipython",
    "version": 3
   },
   "file_extension": ".py",
   "mimetype": "text/x-python",
   "name": "python",
   "nbconvert_exporter": "python",
   "pygments_lexer": "ipython3",
   "version": "3.9.13"
  }
 },
 "nbformat": 4,
 "nbformat_minor": 5
}
