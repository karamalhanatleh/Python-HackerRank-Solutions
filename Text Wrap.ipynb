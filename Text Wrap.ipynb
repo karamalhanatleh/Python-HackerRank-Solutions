{
 "cells": [
  {
   "cell_type": "markdown",
   "id": "9a584c33",
   "metadata": {},
   "source": [
    "# Text Wrap"
   ]
  },
  {
   "cell_type": "raw",
   "id": "8e87f996",
   "metadata": {},
   "source": [
    "You are given a string  and width .\n",
    "Your task is to wrap the string into a paragraph of width .\n",
    "\n",
    "Function Description\n",
    "\n",
    "Complete the wrap function in the editor below.\n",
    "\n",
    "wrap has the following parameters:\n",
    "\n",
    "string string: a long string\n",
    "int max_width: the width to wrap to\n",
    "Returns\n",
    "\n",
    "string: a single string with newline characters ('\\n') where the breaks should be\n",
    "Input Format\n",
    "\n",
    "The first line contains a string, .\n",
    "The second line contains the width, .\n",
    "\n",
    "Constraints\n",
    "\n",
    "Sample Input 0\n",
    "\n",
    "ABCDEFGHIJKLIMNOQRSTUVWXYZ\n",
    "4\n",
    "Sample Output 0\n",
    "\n",
    "ABCD\n",
    "EFGH\n",
    "IJKL\n",
    "IMNO\n",
    "QRST\n",
    "UVWX\n",
    "YZ"
   ]
  },
  {
   "cell_type": "code",
   "execution_count": 13,
   "id": "0aad3dd6",
   "metadata": {},
   "outputs": [],
   "source": [
    "import textwrap\n",
    "\n",
    "def wrap(string, max_width):\n",
    "    return textwrap.fill(string, max_width)"
   ]
  },
  {
   "cell_type": "code",
   "execution_count": 19,
   "id": "134f0f05",
   "metadata": {},
   "outputs": [
    {
     "name": "stdout",
     "output_type": "stream",
     "text": [
      "A123456789\n",
      "B123456789\n",
      "C123456789\n",
      "D123456789\n"
     ]
    }
   ],
   "source": [
    "print(wrap(\"A123456789B123456789C123456789D123456789\",10))"
   ]
  },
  {
   "cell_type": "code",
   "execution_count": null,
   "id": "0ae5224a",
   "metadata": {},
   "outputs": [],
   "source": []
  },
  {
   "cell_type": "code",
   "execution_count": 20,
   "id": "f90eb342",
   "metadata": {},
   "outputs": [
    {
     "name": "stdout",
     "output_type": "stream",
     "text": [
      "123\n",
      "456\n",
      "789\n",
      "123\n",
      "456\n",
      "789\n"
     ]
    }
   ],
   "source": [
    "#ex\n",
    "print(textwrap.fill(\"123456789123456789\",3))"
   ]
  },
  {
   "cell_type": "code",
   "execution_count": null,
   "id": "416c7797",
   "metadata": {},
   "outputs": [],
   "source": []
  },
  {
   "cell_type": "code",
   "execution_count": null,
   "id": "1cbb22f1",
   "metadata": {},
   "outputs": [],
   "source": []
  }
 ],
 "metadata": {
  "kernelspec": {
   "display_name": "Python 3 (ipykernel)",
   "language": "python",
   "name": "python3"
  },
  "language_info": {
   "codemirror_mode": {
    "name": "ipython",
    "version": 3
   },
   "file_extension": ".py",
   "mimetype": "text/x-python",
   "name": "python",
   "nbconvert_exporter": "python",
   "pygments_lexer": "ipython3",
   "version": "3.9.13"
  }
 },
 "nbformat": 4,
 "nbformat_minor": 5
}
