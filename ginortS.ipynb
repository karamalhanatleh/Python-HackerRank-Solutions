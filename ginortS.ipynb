{
 "cells": [
  {
   "cell_type": "markdown",
   "id": "9bfad857",
   "metadata": {},
   "source": [
    "# ginortS"
   ]
  },
  {
   "cell_type": "raw",
   "id": "ca9a5d8c",
   "metadata": {},
   "source": [
    "ou are given a string .\n",
    " contains alphanumeric characters only.\n",
    " Your task is to sort the string  in the following manner:\n",
    "\n",
    "All sorted lowercase letters are ahead of uppercase letters.\n",
    "All sorted uppercase letters are ahead of digits.\n",
    "All sorted odd digits are ahead of sorted even digits.\n",
    "Input Format\n",
    "\n",
    "A single line of input contains the string .\n",
    "\n",
    "Constraints\n",
    "\n",
    "Output Format\n",
    "\n",
    "Output the sorted string .\n",
    "\n",
    "Sample Input\n",
    "\n",
    "Sorting1234\n",
    "Sample Output\n",
    "\n",
    "ginortS1324"
   ]
  },
  {
   "cell_type": "code",
   "execution_count": null,
   "id": "49de2915",
   "metadata": {},
   "outputs": [],
   "source": []
  },
  {
   "cell_type": "code",
   "execution_count": 202,
   "id": "6698eac0",
   "metadata": {},
   "outputs": [
    {
     "name": "stdout",
     "output_type": "stream",
     "text": [
      "Sorting1234\n"
     ]
    }
   ],
   "source": [
    "a=input()\n",
    "\n",
    "s_l=[]\n",
    "s_u=[]\n",
    "n_o=[]\n",
    "n_e=[]"
   ]
  },
  {
   "cell_type": "code",
   "execution_count": 203,
   "id": "4e16d6ac",
   "metadata": {},
   "outputs": [],
   "source": [
    "for c in a:\n",
    "    if c.islower():\n",
    "        s_l.append(c)\n",
    "    elif c.isupper():\n",
    "        s_u.append(c)\n",
    "    elif c.isdigit():\n",
    "        if int(c)%2==0:\n",
    "            n_e.append(c)\n",
    "        else:\n",
    "            n_o.append(c)"
   ]
  },
  {
   "cell_type": "code",
   "execution_count": 204,
   "id": "3e0d63ef",
   "metadata": {},
   "outputs": [],
   "source": [
    "# Sort each list\n",
    "s_l = sorted(s_l)\n",
    "s_u = sorted(s_u)\n",
    "n_o = sorted(n_o)\n",
    "n_e = sorted(n_e)\n"
   ]
  },
  {
   "cell_type": "code",
   "execution_count": 205,
   "id": "db8bff0d",
   "metadata": {},
   "outputs": [],
   "source": [
    "# Concatenate results\n",
    "str_Sort = \"\".join(s_l + s_u + n_o + n_e)\n"
   ]
  },
  {
   "cell_type": "code",
   "execution_count": 206,
   "id": "59245465",
   "metadata": {},
   "outputs": [
    {
     "name": "stdout",
     "output_type": "stream",
     "text": [
      "ginortS1324\n"
     ]
    }
   ],
   "source": [
    "print(str_Sort)\n"
   ]
  },
  {
   "cell_type": "code",
   "execution_count": null,
   "id": "e569b88e",
   "metadata": {},
   "outputs": [],
   "source": []
  },
  {
   "cell_type": "code",
   "execution_count": null,
   "id": "628923f5",
   "metadata": {},
   "outputs": [],
   "source": []
  }
 ],
 "metadata": {
  "kernelspec": {
   "display_name": "Python 3 (ipykernel)",
   "language": "python",
   "name": "python3"
  },
  "language_info": {
   "codemirror_mode": {
    "name": "ipython",
    "version": 3
   },
   "file_extension": ".py",
   "mimetype": "text/x-python",
   "name": "python",
   "nbconvert_exporter": "python",
   "pygments_lexer": "ipython3",
   "version": "3.9.13"
  }
 },
 "nbformat": 4,
 "nbformat_minor": 5
}
