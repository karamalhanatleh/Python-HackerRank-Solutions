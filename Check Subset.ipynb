{
 "cells": [
  {
   "cell_type": "markdown",
   "id": "29650f01",
   "metadata": {},
   "source": [
    "# Check Subset"
   ]
  },
  {
   "cell_type": "raw",
   "id": "fd125916",
   "metadata": {},
   "source": [
    "You are given two sets,  and .\n",
    "Your job is to find whether set  is a subset of set .\n",
    "\n",
    "If set A is subset of set B, print True.\n",
    "If set  A is not a subset of set B , print False.\n",
    "\n",
    "Input Format\n",
    "\n",
    "The first line will contain the number of test cases, .\n",
    "The first line of each test case contains the number of elements in set .\n",
    "The second line of each test case contains the space separated elements of set .\n",
    "The third line of each test case contains the number of elements in set .\n",
    "The fourth line of each test case contains the space separated elements of set .\n",
    "\n",
    "Constraints\n",
    "\n",
    "Output Format\n",
    "\n",
    "Output True or False for each test case on separate lines.\n",
    "\n",
    "Sample Input\n",
    "\n",
    "3\n",
    "5\n",
    "1 2 3 5 6\n",
    "9\n",
    "9 8 5 6 3 2 1 4 7\n",
    "1\n",
    "2\n",
    "5\n",
    "3 6 5 4 1\n",
    "7\n",
    "1 2 3 5 6 8 9\n",
    "3\n",
    "9 8 2\n",
    "Sample Output\n",
    "\n",
    "True \n",
    "False\n",
    "False\n",
    "Explanation\n",
    "\n",
    "Test Case 01 Explanation\n",
    "\n",
    "Set A  = {1 2 3 5 6}\n",
    "Set B = {9 8 5 6 3 2 1 4 7}\n",
    "All the elements of set  are elements of set .\n",
    "Hence, set A  is a subset of set b."
   ]
  },
  {
   "cell_type": "code",
   "execution_count": 2,
   "id": "3df15c85",
   "metadata": {},
   "outputs": [
    {
     "name": "stdout",
     "output_type": "stream",
     "text": [
      "3\n",
      "5\n",
      "1 2 3 4 5 6\n",
      "9\n",
      "9 8 5 6 3 2 1 4 7\n",
      "True\n",
      "1\n",
      "2\n",
      "3\n",
      "36541\n",
      "False\n",
      "7\n",
      "1 2 3 4 5 6 7 8 9\n",
      "3\n",
      "9 8 2 \n",
      "False\n"
     ]
    }
   ],
   "source": [
    "t=int(input())\n",
    "for _ in range(t):\n",
    "    n_a=int(input())\n",
    "    A = set(map(int,input().split()))\n",
    "    \n",
    "    n_b=int(input())\n",
    "    B = set(map(int,input().split()))\n",
    "    \n",
    "    print(A.issubset(B))\n"
   ]
  },
  {
   "cell_type": "code",
   "execution_count": null,
   "id": "6d9bc10f",
   "metadata": {},
   "outputs": [],
   "source": []
  },
  {
   "cell_type": "code",
   "execution_count": null,
   "id": "6bc10c49",
   "metadata": {},
   "outputs": [],
   "source": []
  },
  {
   "cell_type": "code",
   "execution_count": null,
   "id": "4be529be",
   "metadata": {},
   "outputs": [],
   "source": []
  },
  {
   "cell_type": "code",
   "execution_count": null,
   "id": "de47f699",
   "metadata": {},
   "outputs": [],
   "source": []
  },
  {
   "cell_type": "code",
   "execution_count": null,
   "id": "096ae6c1",
   "metadata": {},
   "outputs": [],
   "source": []
  },
  {
   "cell_type": "code",
   "execution_count": null,
   "id": "772543fd",
   "metadata": {},
   "outputs": [],
   "source": []
  },
  {
   "cell_type": "code",
   "execution_count": null,
   "id": "67932bff",
   "metadata": {},
   "outputs": [],
   "source": []
  },
  {
   "cell_type": "code",
   "execution_count": null,
   "id": "3f475c5a",
   "metadata": {},
   "outputs": [],
   "source": []
  },
  {
   "cell_type": "code",
   "execution_count": null,
   "id": "0a39d784",
   "metadata": {},
   "outputs": [],
   "source": []
  },
  {
   "cell_type": "code",
   "execution_count": null,
   "id": "adb83be2",
   "metadata": {},
   "outputs": [],
   "source": []
  }
 ],
 "metadata": {
  "kernelspec": {
   "display_name": "Python 3 (ipykernel)",
   "language": "python",
   "name": "python3"
  },
  "language_info": {
   "codemirror_mode": {
    "name": "ipython",
    "version": 3
   },
   "file_extension": ".py",
   "mimetype": "text/x-python",
   "name": "python",
   "nbconvert_exporter": "python",
   "pygments_lexer": "ipython3",
   "version": "3.9.13"
  }
 },
 "nbformat": 4,
 "nbformat_minor": 5
}
