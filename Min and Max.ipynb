{
 "cells": [
  {
   "cell_type": "markdown",
   "id": "27f71f3d",
   "metadata": {},
   "source": [
    "# Min and Max"
   ]
  },
  {
   "cell_type": "raw",
   "id": "414e5041",
   "metadata": {},
   "source": [
    "Task\n",
    "\n",
    "You are given a 2-D array with dimensions X.\n",
    "Your task is to perform the min function over axis  and then find the max of that.\n",
    "\n",
    "Input Format\n",
    "\n",
    "The first line of input contains the space separated values of  and .\n",
    "The next  lines contains  space separated integers.\n",
    "\n",
    "Output Format\n",
    "\n",
    "Compute the min along axis  and then print the max of that result.\n",
    "\n",
    "Sample Input\n",
    "\n",
    "4 2\n",
    "2 5\n",
    "3 7\n",
    "1 3\n",
    "4 0\n",
    "Sample Output\n",
    "\n",
    "3\n",
    "Explanation\n",
    "\n",
    "The min along axis  = \n",
    "The max of  = "
   ]
  },
  {
   "cell_type": "code",
   "execution_count": 11,
   "id": "2b3b8e60",
   "metadata": {},
   "outputs": [],
   "source": [
    "\n",
    "import numpy as np"
   ]
  },
  {
   "cell_type": "code",
   "execution_count": 12,
   "id": "b21e49ab",
   "metadata": {},
   "outputs": [
    {
     "name": "stdout",
     "output_type": "stream",
     "text": [
      "4 2\n"
     ]
    }
   ],
   "source": [
    "#  input dimensions\n",
    "n, m = map(int, input().split())\n"
   ]
  },
  {
   "cell_type": "code",
   "execution_count": 14,
   "id": "72d75c9e",
   "metadata": {},
   "outputs": [
    {
     "name": "stdout",
     "output_type": "stream",
     "text": [
      "2 5\n",
      "3 7\n",
      "1 3\n",
      "4 0\n"
     ]
    }
   ],
   "source": [
    "\n",
    "# Read array\n",
    "array = np.array([input().split() for _ in range(n)], int)\n"
   ]
  },
  {
   "cell_type": "code",
   "execution_count": 15,
   "id": "3bbb8259",
   "metadata": {
    "scrolled": true
   },
   "outputs": [
    {
     "name": "stdout",
     "output_type": "stream",
     "text": [
      "3\n"
     ]
    }
   ],
   "source": [
    "#  the min operation along axis 1, then find the max of that result\n",
    "result = np.max(np.min(array, axis=1))\n",
    "\n"
   ]
  },
  {
   "cell_type": "code",
   "execution_count": null,
   "id": "9edb25e9",
   "metadata": {},
   "outputs": [],
   "source": [
    "# Print the result\n",
    "print(result)"
   ]
  },
  {
   "cell_type": "code",
   "execution_count": null,
   "id": "c7f3936c",
   "metadata": {},
   "outputs": [],
   "source": []
  },
  {
   "cell_type": "code",
   "execution_count": null,
   "id": "01062774",
   "metadata": {},
   "outputs": [],
   "source": []
  }
 ],
 "metadata": {
  "kernelspec": {
   "display_name": "Python 3 (ipykernel)",
   "language": "python",
   "name": "python3"
  },
  "language_info": {
   "codemirror_mode": {
    "name": "ipython",
    "version": 3
   },
   "file_extension": ".py",
   "mimetype": "text/x-python",
   "name": "python",
   "nbconvert_exporter": "python",
   "pygments_lexer": "ipython3",
   "version": "3.9.13"
  }
 },
 "nbformat": 4,
 "nbformat_minor": 5
}
