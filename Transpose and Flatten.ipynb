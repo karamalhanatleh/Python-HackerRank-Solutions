{
 "cells": [
  {
   "cell_type": "markdown",
   "id": "367f6042",
   "metadata": {},
   "source": [
    "# Transpose and Flatten"
   ]
  },
  {
   "cell_type": "code",
   "execution_count": 1,
   "id": "e129d370",
   "metadata": {},
   "outputs": [],
   "source": [
    "#import paskages \n",
    "import numpy "
   ]
  },
  {
   "cell_type": "code",
   "execution_count": 48,
   "id": "c9c9b3e4",
   "metadata": {},
   "outputs": [
    {
     "name": "stdout",
     "output_type": "stream",
     "text": [
      "2 2\n"
     ]
    }
   ],
   "source": [
    "# get input num of rows and columns \n",
    "\n",
    "n,m =map(int , input().split())"
   ]
  },
  {
   "cell_type": "code",
   "execution_count": 76,
   "id": "f16d74ce",
   "metadata": {},
   "outputs": [],
   "source": [
    "#  list to hold  rows \n",
    "list_n = []\n"
   ]
  },
  {
   "cell_type": "code",
   "execution_count": 77,
   "id": "f30068c0",
   "metadata": {},
   "outputs": [
    {
     "name": "stdout",
     "output_type": "stream",
     "text": [
      "1 2\n",
      "3 4\n"
     ]
    }
   ],
   "source": [
    "# Loop to capture each row of input\n",
    "for _ in range(n):\n",
    "    # Read a row of m integers from input, split, and convert them to integers\n",
    "    row = list(map(int, input().split()))\n",
    "    list_n.append(row)"
   ]
  },
  {
   "cell_type": "code",
   "execution_count": 78,
   "id": "a7292ff6",
   "metadata": {},
   "outputs": [],
   "source": [
    "# Convert  list to  array\n",
    "arr = numpy.array(list_n)"
   ]
  },
  {
   "cell_type": "code",
   "execution_count": 79,
   "id": "12e7310e",
   "metadata": {},
   "outputs": [
    {
     "name": "stdout",
     "output_type": "stream",
     "text": [
      "[[1 3]\n",
      " [2 4]]\n"
     ]
    }
   ],
   "source": [
    "# Print  transposed \n",
    "arr_transpose = numpy.transpose(arr)\n",
    "print(arr_transpose)\n"
   ]
  },
  {
   "cell_type": "code",
   "execution_count": 80,
   "id": "10927fb8",
   "metadata": {},
   "outputs": [
    {
     "name": "stdout",
     "output_type": "stream",
     "text": [
      "[1 2 3 4]\n"
     ]
    }
   ],
   "source": [
    "# Print  flattened array\n",
    "print(arr.flatten())\n"
   ]
  },
  {
   "cell_type": "code",
   "execution_count": null,
   "id": "a95a89a2",
   "metadata": {},
   "outputs": [],
   "source": []
  },
  {
   "cell_type": "code",
   "execution_count": null,
   "id": "72f8b379",
   "metadata": {},
   "outputs": [],
   "source": []
  },
  {
   "cell_type": "code",
   "execution_count": null,
   "id": "df5ef1ab",
   "metadata": {},
   "outputs": [],
   "source": []
  },
  {
   "cell_type": "code",
   "execution_count": null,
   "id": "99557a21",
   "metadata": {},
   "outputs": [],
   "source": []
  },
  {
   "cell_type": "code",
   "execution_count": null,
   "id": "88e7d354",
   "metadata": {},
   "outputs": [],
   "source": []
  },
  {
   "cell_type": "code",
   "execution_count": null,
   "id": "64974b32",
   "metadata": {},
   "outputs": [],
   "source": []
  }
 ],
 "metadata": {
  "kernelspec": {
   "display_name": "Python 3 (ipykernel)",
   "language": "python",
   "name": "python3"
  },
  "language_info": {
   "codemirror_mode": {
    "name": "ipython",
    "version": 3
   },
   "file_extension": ".py",
   "mimetype": "text/x-python",
   "name": "python",
   "nbconvert_exporter": "python",
   "pygments_lexer": "ipython3",
   "version": "3.9.13"
  }
 },
 "nbformat": 4,
 "nbformat_minor": 5
}
