{
 "cells": [
  {
   "cell_type": "markdown",
   "id": "2adb3e76",
   "metadata": {},
   "source": [
    "# Mutations"
   ]
  },
  {
   "cell_type": "markdown",
   "id": "1e12bc3b",
   "metadata": {},
   "source": [
    "We have seen that lists are mutable (they can be changed), and tuples are immutable (they cannot be changed).\n",
    "\n",
    "Let's try to understand this with an example.\n",
    "\n",
    "You are given an immutable string, and you want to make changes to it."
   ]
  },
  {
   "cell_type": "raw",
   "id": "8cfec646",
   "metadata": {},
   "source": [
    "Example\n",
    "\n",
    ">>> string = \"abracadabra\"\n",
    "You can access an index by:\n",
    "\n",
    ">>> print string[5]\n",
    "a"
   ]
  },
  {
   "cell_type": "markdown",
   "id": "628868cf",
   "metadata": {},
   "source": [
    "What if you would like to assign a value?\n",
    "\n"
   ]
  },
  {
   "cell_type": "raw",
   "id": "e7a0601c",
   "metadata": {},
   "source": [
    ">>> string[5] = 'k' \n",
    "Traceback (most recent call last):\n",
    "  File \"<stdin>\", line 1, in <module>\n",
    "TypeError: 'str' object does not support item assignmen"
   ]
  },
  {
   "cell_type": "markdown",
   "id": "d0ea4351",
   "metadata": {},
   "source": [
    "How would you approach this?\n",
    "\n",
    "One solution is to convert the string to a list and then change the value.\n",
    "\n",
    "Example"
   ]
  },
  {
   "cell_type": "raw",
   "id": "c0803d59",
   "metadata": {},
   "source": [
    ">>> string = \"abracadabra\"\n",
    ">>> l = list(string)\n",
    ">>> l[5] = 'k'\n",
    ">>> string = ''.join(l)\n",
    ">>> print string\n",
    "abrackdabra"
   ]
  },
  {
   "cell_type": "markdown",
   "id": "9732f415",
   "metadata": {},
   "source": [
    "\n",
    "Another approach is to slice the string and join it back.\n"
   ]
  },
  {
   "cell_type": "raw",
   "id": "1cf87849",
   "metadata": {},
   "source": [
    ">>> string = string[:5] + \"k\" + string[6:]\n",
    ">>> print string\n",
    "abrackdabra"
   ]
  },
  {
   "cell_type": "raw",
   "id": "d2e3c43e",
   "metadata": {},
   "source": [
    "Task\n",
    "Read a given string, change the character at a given index and then print the modified string.\n",
    "Function Description\n",
    "\n",
    "Complete the mutate_string function in the editor below.\n",
    "\n",
    "mutate_string has the following parameters:\n",
    "\n",
    "string string: the string to change\n",
    "int position: the index to insert the character at\n",
    "string character: the character to insert\n",
    "Returns\n",
    "\n",
    "string: the altered string\n",
    "Input Format\n",
    "\n",
    "The first line contains a string, .\n",
    "The next line contains an integer , the index location and a string , separated by a space.\n",
    "\n",
    "Sample Input\n",
    "\n",
    "STDIN           Function\n",
    "-----           --------\n",
    "abracadabra     s = 'abracadabra'\n",
    "5 k             position = 5, character = 'k'\n",
    "Sample Output\n",
    "\n",
    "abrackdabra"
   ]
  },
  {
   "cell_type": "code",
   "execution_count": null,
   "id": "bc70eadc",
   "metadata": {},
   "outputs": [],
   "source": []
  },
  {
   "cell_type": "code",
   "execution_count": 26,
   "id": "dce01c31",
   "metadata": {},
   "outputs": [
    {
     "name": "stdout",
     "output_type": "stream",
     "text": [
      "Karaa\n",
      "4 m\n",
      "Karam\n"
     ]
    }
   ],
   "source": [
    "def mutate_string(string, position, character):\n",
    "    list_string=list(string)\n",
    "    list_string[position]=character\n",
    "    string=\"\".join(list_string)\n",
    "    return string\n",
    "\n",
    "if __name__ == '__main__':\n",
    "    s = input()\n",
    "    i, c = input().split()\n",
    "    s_new = mutate_string(s, int(i), c)\n",
    "    print(s_new)"
   ]
  },
  {
   "cell_type": "code",
   "execution_count": null,
   "id": "4e06179b",
   "metadata": {},
   "outputs": [],
   "source": []
  }
 ],
 "metadata": {
  "kernelspec": {
   "display_name": "Python 3 (ipykernel)",
   "language": "python",
   "name": "python3"
  },
  "language_info": {
   "codemirror_mode": {
    "name": "ipython",
    "version": 3
   },
   "file_extension": ".py",
   "mimetype": "text/x-python",
   "name": "python",
   "nbconvert_exporter": "python",
   "pygments_lexer": "ipython3",
   "version": "3.9.13"
  }
 },
 "nbformat": 4,
 "nbformat_minor": 5
}
