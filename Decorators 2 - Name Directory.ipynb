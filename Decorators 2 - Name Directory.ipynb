{
 "cells": [
  {
   "cell_type": "markdown",
   "id": "764fd5eb",
   "metadata": {},
   "source": [
    "# Decorators 2 - Name Directory"
   ]
  },
  {
   "cell_type": "raw",
   "id": "74526a09",
   "metadata": {},
   "source": [
    "Let's use decorators to build a name directory! You are given some information about  people. Each person has a first name, last name, age and sex. Print their names in a specific format sorted by their age in ascending order i.e. the youngest person's name should be printed first. For two people of the same age, print them in the order of their input.\n",
    "\n",
    "For Henry Davids, the output should be:\n",
    "\n",
    "Mr. Henry Davids\n",
    "For Mary George, the output should be:\n",
    "\n",
    "Ms. Mary George\n",
    "Input Format\n",
    "\n",
    "The first line contains the integer , the number of people.\n",
    " lines follow each containing the space separated values of the first name, last name, age and sex, respectively.\n",
    "\n",
    "Constraints\n",
    "\n",
    "\n",
    "Output Format\n",
    "\n",
    "Output  names on separate lines in the format described above in ascending order of age.\n",
    "\n",
    "Sample Input\n",
    "\n",
    "3\n",
    "Mike Thomson 20 M\n",
    "Robert Bustle 32 M\n",
    "Andria Bustle 30 F\n",
    "Sample Output\n",
    "\n",
    "Mr. Mike Thomson\n",
    "Ms. Andria Bustle\n",
    "Mr. Robert Bustle"
   ]
  },
  {
   "cell_type": "code",
   "execution_count": null,
   "id": "8971777b",
   "metadata": {},
   "outputs": [],
   "source": []
  },
  {
   "cell_type": "code",
   "execution_count": null,
   "id": "90412574",
   "metadata": {},
   "outputs": [],
   "source": [
    "import operator\n",
    "\n",
    "def person_lister(f):\n",
    "    def inner(people):\n",
    "        sorted_people=sorted(people,key=lambda x:int(x[2]))\n",
    "        \n",
    "        return [f(person) for person in sorted_people]\n",
    "    return inner\n",
    "\n",
    "@person_lister\n",
    "def name_format(person):\n",
    "    return (\"Mr. \" if person[3] == \"M\" else \"Ms. \") + person[0] + \" \" + person[1]\n",
    "\n",
    "if __name__ == '__main__':\n",
    "    people = [input().split() for i in range(int(input()))]\n",
    "    print(*name_format(people), sep='\\n')"
   ]
  },
  {
   "cell_type": "code",
   "execution_count": null,
   "id": "a2e89957",
   "metadata": {},
   "outputs": [],
   "source": []
  },
  {
   "cell_type": "code",
   "execution_count": null,
   "id": "a9cfede6",
   "metadata": {},
   "outputs": [],
   "source": []
  }
 ],
 "metadata": {
  "kernelspec": {
   "display_name": "Python 3 (ipykernel)",
   "language": "python",
   "name": "python3"
  },
  "language_info": {
   "codemirror_mode": {
    "name": "ipython",
    "version": 3
   },
   "file_extension": ".py",
   "mimetype": "text/x-python",
   "name": "python",
   "nbconvert_exporter": "python",
   "pygments_lexer": "ipython3",
   "version": "3.9.13"
  }
 },
 "nbformat": 4,
 "nbformat_minor": 5
}
