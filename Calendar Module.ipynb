{
 "cells": [
  {
   "cell_type": "markdown",
   "id": "b1c323dc",
   "metadata": {},
   "source": [
    "# Calendar Module"
   ]
  },
  {
   "cell_type": "raw",
   "id": "8d2dcc2a",
   "metadata": {},
   "source": [
    "Calendar Module\n",
    "The calendar module allows you to output calendars and provides additional useful functions for them.\n",
    "\n",
    "class calendar.TextCalendar([firstweekday])\n",
    "\n",
    "This class can be used to generate plain text calendars.\n",
    "\n",
    "Task\n",
    "\n",
    "You are given a date. Your task is to find what the day is on that date.\n",
    "\n",
    "Input Format\n",
    "\n",
    "A single line of input containing the space separated month, day and year, respectively, in    format.\n",
    "\n",
    "Constraints\n",
    "\n",
    "Output Format\n",
    "\n",
    "Output the correct day in capital letters.\n",
    "\n",
    "Sample Input\n",
    "\n",
    "08 05 2015\n",
    "Sample Output\n",
    "\n",
    "WEDNESDAY"
   ]
  },
  {
   "cell_type": "code",
   "execution_count": null,
   "id": "8e977965",
   "metadata": {},
   "outputs": [],
   "source": []
  },
  {
   "cell_type": "code",
   "execution_count": null,
   "id": "23941383",
   "metadata": {},
   "outputs": [],
   "source": []
  },
  {
   "cell_type": "code",
   "execution_count": 10,
   "id": "e3eab17b",
   "metadata": {},
   "outputs": [],
   "source": [
    "#import paskages\n",
    "import calendar\n",
    "import datetime"
   ]
  },
  {
   "cell_type": "code",
   "execution_count": 7,
   "id": "cd885bde",
   "metadata": {},
   "outputs": [
    {
     "name": "stdout",
     "output_type": "stream",
     "text": [
      "08 05 2015\n"
     ]
    }
   ],
   "source": [
    "#read input date\n",
    "date_input=input().strip()"
   ]
  },
  {
   "cell_type": "code",
   "execution_count": 9,
   "id": "3a2caacb",
   "metadata": {},
   "outputs": [],
   "source": [
    "m,d ,y = map(int,date_input.split())"
   ]
  },
  {
   "cell_type": "code",
   "execution_count": 11,
   "id": "798f8733",
   "metadata": {},
   "outputs": [],
   "source": [
    "# Create a date object\n",
    "date=datetime.date(y,m,d)"
   ]
  },
  {
   "cell_type": "code",
   "execution_count": 13,
   "id": "0ba44e88",
   "metadata": {},
   "outputs": [],
   "source": [
    "# Get the day of the week and convert it to uppercase\n",
    "day_week = date.strftime(\"%A\").upper()\n"
   ]
  },
  {
   "cell_type": "code",
   "execution_count": 15,
   "id": "dac5f2a5",
   "metadata": {},
   "outputs": [
    {
     "name": "stdout",
     "output_type": "stream",
     "text": [
      "WEDNESDAY\n"
     ]
    }
   ],
   "source": [
    "print(day_week)\n"
   ]
  },
  {
   "cell_type": "code",
   "execution_count": null,
   "id": "37d8128d",
   "metadata": {},
   "outputs": [],
   "source": []
  },
  {
   "cell_type": "code",
   "execution_count": null,
   "id": "5f07dad4",
   "metadata": {},
   "outputs": [],
   "source": []
  },
  {
   "cell_type": "code",
   "execution_count": null,
   "id": "c0b327c3",
   "metadata": {},
   "outputs": [],
   "source": []
  }
 ],
 "metadata": {
  "kernelspec": {
   "display_name": "Python 3 (ipykernel)",
   "language": "python",
   "name": "python3"
  },
  "language_info": {
   "codemirror_mode": {
    "name": "ipython",
    "version": 3
   },
   "file_extension": ".py",
   "mimetype": "text/x-python",
   "name": "python",
   "nbconvert_exporter": "python",
   "pygments_lexer": "ipython3",
   "version": "3.9.13"
  }
 },
 "nbformat": 4,
 "nbformat_minor": 5
}
