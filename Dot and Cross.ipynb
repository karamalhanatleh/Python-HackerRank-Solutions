{
 "cells": [
  {
   "cell_type": "markdown",
   "id": "2407dca6",
   "metadata": {},
   "source": [
    "# Dot and Cross"
   ]
  },
  {
   "cell_type": "raw",
   "id": "e125a11a",
   "metadata": {},
   "source": [
    "Task\n",
    "\n",
    "You are given two arrays  and . Both have dimensions of X.\n",
    "Your task is to compute their matrix product.\n",
    "\n",
    "Input Format\n",
    "\n",
    "The first line contains the integer .\n",
    "The next  lines contains  space separated integers of array .\n",
    "The following  lines contains  space separated integers of array .\n",
    "\n",
    "Output Format\n",
    "\n",
    "Print the matrix multiplication of  and .\n",
    "\n",
    "Sample Input\n",
    "\n",
    "2\n",
    "1 2\n",
    "3 4\n",
    "1 2\n",
    "3 4\n",
    "Sample Output\n",
    "\n",
    "[[ 7 10]\n",
    " [15 22]]"
   ]
  },
  {
   "cell_type": "markdown",
   "id": "598cb977",
   "metadata": {},
   "source": [
    "----------------"
   ]
  },
  {
   "cell_type": "code",
   "execution_count": 1,
   "id": "dd941b8a",
   "metadata": {},
   "outputs": [],
   "source": [
    "import numpy as np\n"
   ]
  },
  {
   "cell_type": "code",
   "execution_count": 2,
   "id": "d82e42cb",
   "metadata": {},
   "outputs": [
    {
     "name": "stdout",
     "output_type": "stream",
     "text": [
      "2\n"
     ]
    }
   ],
   "source": [
    "\n",
    "# Read  dimension\n",
    "n = int(input())\n"
   ]
  },
  {
   "cell_type": "code",
   "execution_count": 3,
   "id": "d3e732f4",
   "metadata": {},
   "outputs": [
    {
     "name": "stdout",
     "output_type": "stream",
     "text": [
      "1 2\n",
      "3 4\n"
     ]
    }
   ],
   "source": [
    "# Read matrix A\n",
    "A = np.array([input().split() for _ in range(n)], int)\n",
    "\n",
    "#"
   ]
  },
  {
   "cell_type": "code",
   "execution_count": 4,
   "id": "f386b155",
   "metadata": {},
   "outputs": [
    {
     "name": "stdout",
     "output_type": "stream",
     "text": [
      "1 2\n",
      "3 4\n"
     ]
    }
   ],
   "source": [
    "# Read matrix B\n",
    "B = np.array([input().split() for _ in range(n)], int)"
   ]
  },
  {
   "cell_type": "code",
   "execution_count": 5,
   "id": "17d4b3ed",
   "metadata": {},
   "outputs": [],
   "source": [
    "\n",
    "# Calculate   product\n",
    "result = np.dot(A, B)"
   ]
  },
  {
   "cell_type": "code",
   "execution_count": 6,
   "id": "fbd255c8",
   "metadata": {},
   "outputs": [
    {
     "name": "stdout",
     "output_type": "stream",
     "text": [
      "[[ 7 10]\n",
      " [15 22]]\n"
     ]
    }
   ],
   "source": [
    "# Print result\n",
    "print(result)\n"
   ]
  },
  {
   "cell_type": "code",
   "execution_count": null,
   "id": "5259f136",
   "metadata": {},
   "outputs": [],
   "source": []
  }
 ],
 "metadata": {
  "kernelspec": {
   "display_name": "Python 3 (ipykernel)",
   "language": "python",
   "name": "python3"
  },
  "language_info": {
   "codemirror_mode": {
    "name": "ipython",
    "version": 3
   },
   "file_extension": ".py",
   "mimetype": "text/x-python",
   "name": "python",
   "nbconvert_exporter": "python",
   "pygments_lexer": "ipython3",
   "version": "3.9.13"
  }
 },
 "nbformat": 4,
 "nbformat_minor": 5
}
