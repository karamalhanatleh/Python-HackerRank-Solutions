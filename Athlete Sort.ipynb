{
 "cells": [
  {
   "cell_type": "raw",
   "id": "84e4fc32",
   "metadata": {},
   "source": [
    "Input Format\n",
    "\n",
    "The first line contains  and  separated by a space.\n",
    "The next  lines each contain  elements.\n",
    "The last line contains .\n",
    "\n",
    "Constraints\n",
    "\n",
    "\n",
    "\n",
    "Each element \n",
    "\n",
    "Output Format\n",
    "\n",
    "Print the  lines of the sorted table. Each line should contain the space separated elements. Check the sample below for clarity.\n",
    "\n",
    "Sample Input 0\n",
    "\n",
    "5 3\n",
    "10 2 5\n",
    "7 1 0\n",
    "9 9 9\n",
    "1 23 12\n",
    "6 5 9\n",
    "1\n",
    "Sample Output 0\n",
    "\n",
    "7 1 0\n",
    "10 2 5\n",
    "6 5 9\n",
    "9 9 9\n",
    "1 23 12\n",
    "Explanation 0\n",
    "\n",
    "The details are sorted based on the second attribute, since  is zero-indexed."
   ]
  },
  {
   "cell_type": "code",
   "execution_count": null,
   "id": "dcbfbee9",
   "metadata": {},
   "outputs": [],
   "source": [
    "#!/bin/python3\n",
    "\n",
    "import math\n",
    "import os\n",
    "import random\n",
    "import re\n",
    "import sys\n",
    "\n",
    "\n",
    "\n",
    "if __name__ == '__main__':\n",
    "    n, m = map(int, input().split())\n",
    "\n",
    "    # Read the table data (n rows, m columns)\n",
    "    arr = [list(map(int, input().split())) for _ in range(n)]\n",
    "\n",
    "    # Read the integer k, which is the index of the column to sort by\n",
    "    k = int(input())\n",
    "\n",
    "    # Sort the table based on the k-th column\n",
    "    arr.sort(key=lambda x: x[k])\n",
    "\n",
    "    # Print the sorted table\n",
    "    for row in arr:\n",
    "        print(\" \".join(map(str, row)))\n"
   ]
  },
  {
   "cell_type": "code",
   "execution_count": null,
   "id": "d447d19b",
   "metadata": {},
   "outputs": [],
   "source": []
  },
  {
   "cell_type": "code",
   "execution_count": null,
   "id": "6eefc2df",
   "metadata": {},
   "outputs": [],
   "source": []
  },
  {
   "cell_type": "code",
   "execution_count": null,
   "id": "e7d19429",
   "metadata": {},
   "outputs": [],
   "source": []
  },
  {
   "cell_type": "code",
   "execution_count": null,
   "id": "39a4a04c",
   "metadata": {},
   "outputs": [],
   "source": []
  },
  {
   "cell_type": "code",
   "execution_count": null,
   "id": "5268c7c4",
   "metadata": {},
   "outputs": [],
   "source": []
  },
  {
   "cell_type": "code",
   "execution_count": null,
   "id": "ce46bc4d",
   "metadata": {},
   "outputs": [],
   "source": []
  },
  {
   "cell_type": "code",
   "execution_count": null,
   "id": "94f7a1ba",
   "metadata": {},
   "outputs": [],
   "source": []
  },
  {
   "cell_type": "code",
   "execution_count": null,
   "id": "015ea795",
   "metadata": {},
   "outputs": [],
   "source": []
  },
  {
   "cell_type": "code",
   "execution_count": null,
   "id": "5767f05b",
   "metadata": {},
   "outputs": [],
   "source": []
  }
 ],
 "metadata": {
  "kernelspec": {
   "display_name": "Python 3 (ipykernel)",
   "language": "python",
   "name": "python3"
  },
  "language_info": {
   "codemirror_mode": {
    "name": "ipython",
    "version": 3
   },
   "file_extension": ".py",
   "mimetype": "text/x-python",
   "name": "python",
   "nbconvert_exporter": "python",
   "pygments_lexer": "ipython3",
   "version": "3.9.13"
  }
 },
 "nbformat": 4,
 "nbformat_minor": 5
}
