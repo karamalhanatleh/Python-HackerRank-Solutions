{
 "cells": [
  {
   "cell_type": "markdown",
   "id": "27b87ba7",
   "metadata": {},
   "source": [
    "# Array Mathematics"
   ]
  },
  {
   "cell_type": "raw",
   "id": "30313edc",
   "metadata": {},
   "source": [
    "Task\n",
    "\n",
    "You are given two integer arrays,  and  of dimensions X.\n",
    "Your task is to perform the following operations:\n",
    "\n",
    "Add ( + )\n",
    "Subtract ( - )\n",
    "Multiply ( * )\n",
    "Integer Division ( / )\n",
    "Mod ( % )\n",
    "Power ( ** )\n",
    "Note\n",
    "There is a method numpy.floor_divide() that works like numpy.divide() except it performs a floor division.\n",
    "\n",
    "Input Format\n",
    "\n",
    "The first line contains two space separated integers,  and .\n",
    "The next  lines contains  space separated integers of array .\n",
    "The following  lines contains  space separated integers of array .\n",
    "\n",
    "Output Format\n",
    "\n",
    "Print the result of each operation in the given order under Task.\n",
    "\n",
    "Sample Input\n",
    "\n",
    "1 4\n",
    "1 2 3 4\n",
    "5 6 7 8\n",
    "Sample Output\n",
    "\n",
    "[[ 6  8 10 12]]\n",
    "[[-4 -4 -4 -4]]\n",
    "[[ 5 12 21 32]]\n",
    "[[0 0 0 0]]\n",
    "[[1 2 3 4]]\n",
    "[[    1    64  2187 65536]] \n",
    "Use // for division in Python 3."
   ]
  },
  {
   "cell_type": "code",
   "execution_count": null,
   "id": "cbfc5633",
   "metadata": {},
   "outputs": [],
   "source": []
  },
  {
   "cell_type": "code",
   "execution_count": 13,
   "id": "8f2bf3e7",
   "metadata": {},
   "outputs": [],
   "source": [
    "#import\n",
    "import numpy as np"
   ]
  },
  {
   "cell_type": "code",
   "execution_count": 14,
   "id": "a9e1efce",
   "metadata": {},
   "outputs": [
    {
     "name": "stdout",
     "output_type": "stream",
     "text": [
      "1 4\n"
     ]
    }
   ],
   "source": [
    "# input values\n",
    "n, m = map(int, input().split())"
   ]
  },
  {
   "cell_type": "code",
   "execution_count": 15,
   "id": "577b0701",
   "metadata": {},
   "outputs": [
    {
     "name": "stdout",
     "output_type": "stream",
     "text": [
      "1 2 3 4\n"
     ]
    }
   ],
   "source": [
    "# Read  first array\n",
    "A = np.array([input().split() for _ in range(n)], dtype=int)\n"
   ]
  },
  {
   "cell_type": "code",
   "execution_count": 16,
   "id": "ddabb6fe",
   "metadata": {},
   "outputs": [
    {
     "name": "stdout",
     "output_type": "stream",
     "text": [
      "5 6 7 8\n"
     ]
    }
   ],
   "source": [
    "# Read  second array\n",
    "B = np.array([input().split() for _ in range(n)], dtype=int)\n"
   ]
  },
  {
   "cell_type": "code",
   "execution_count": 17,
   "id": "ed2d5963",
   "metadata": {},
   "outputs": [
    {
     "name": "stdout",
     "output_type": "stream",
     "text": [
      "[[ 6  8 10 12]]\n",
      "[[-4 -4 -4 -4]]\n",
      "[[ 5 12 21 32]]\n",
      "[[0 0 0 0]]\n",
      "[[1 2 3 4]]\n",
      "[[    1    64  2187 65536]]\n"
     ]
    }
   ],
   "source": [
    "# operations\n",
    "print(A + B)                  # Addition\n",
    "print(A - B)                  # Subtraction\n",
    "print(A * B)                  # Multiplication\n",
    "print(np.floor_divide(A, B))  # Integer Division (floor division)\n",
    "print(A % B)                  # Modulus\n",
    "print(np.power(A, B))         # Power\n"
   ]
  },
  {
   "cell_type": "code",
   "execution_count": null,
   "id": "b24ecbc9",
   "metadata": {},
   "outputs": [],
   "source": []
  },
  {
   "cell_type": "code",
   "execution_count": null,
   "id": "c3a8e9f3",
   "metadata": {},
   "outputs": [],
   "source": []
  }
 ],
 "metadata": {
  "kernelspec": {
   "display_name": "Python 3 (ipykernel)",
   "language": "python",
   "name": "python3"
  },
  "language_info": {
   "codemirror_mode": {
    "name": "ipython",
    "version": 3
   },
   "file_extension": ".py",
   "mimetype": "text/x-python",
   "name": "python",
   "nbconvert_exporter": "python",
   "pygments_lexer": "ipython3",
   "version": "3.9.13"
  }
 },
 "nbformat": 4,
 "nbformat_minor": 5
}
