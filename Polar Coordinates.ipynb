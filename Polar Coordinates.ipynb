{
 "cells": [
  {
   "cell_type": "raw",
   "id": "d2cfa687",
   "metadata": {},
   "source": [
    "Polar coordinates are an alternative way of representing Cartesian coordinates or Complex Numbers.\n",
    "\n",
    "A complex number  Capture.PNG\n",
    "\n",
    "is completely determined by its real part  and imaginary part .\n",
    "Here,  is the imaginary unit.\n",
    "A polar coordinate () Capture.PNG\n",
    "\n",
    "is completely determined by modulus  and phase angle .\n",
    "\n",
    "If we convert complex number  to its polar coordinate, we find:\n",
    ": Distance from  to origin, i.e., \n",
    ": Counter clockwise angle measured from the positive -axis to the line segment that joins  to the origin.\n",
    "\n",
    "Python's cmath module provides access to the mathematical functions for complex numbers.\n",
    "\n",
    "\n",
    "This tool returns the phase of complex number  (also known as the argument of ).\n",
    "\n",
    ">>> phase(complex(-1.0, 0.0))\n",
    "3.1415926535897931\n",
    "\n",
    "This tool returns the modulus (absolute value) of complex number .\n",
    "\n",
    ">>> abs(complex(-1.0, 0.0))\n",
    "1.0\n",
    "Task\n",
    "You are given a complex . Your task is to convert it to polar coordinates.\n",
    "\n",
    "Input Format\n",
    "\n",
    "A single line containing the complex number . Note: complex() function can be used in python to convert the input as a complex number.\n",
    "\n",
    "Constraints\n",
    "\n",
    "Given number is a valid complex number\n",
    "\n",
    "Output Format\n",
    "\n",
    "Output two lines:\n",
    "The first line should contain the value of .\n",
    "The second line should contain the value of .\n",
    "\n",
    "Sample Input\n",
    "\n",
    "  1+2j\n",
    "Sample Output\n",
    "\n",
    " 2.23606797749979 \n",
    " 1.1071487177940904\n",
    "Note: The output should be correct up to 3 decimal places."
   ]
  },
  {
   "cell_type": "code",
   "execution_count": 1,
   "id": "278fd906",
   "metadata": {},
   "outputs": [
    {
     "name": "stdout",
     "output_type": "stream",
     "text": [
      "  1+2j\n",
      "2.236\n",
      "1.107\n"
     ]
    }
   ],
   "source": [
    "import cmath\n",
    "\n",
    "# Read input\n",
    "complex_number = complex(input().strip())\n",
    "\n",
    "# Calculate modulus and phase\n",
    "modulus = abs(complex_number)\n",
    "phase_angle = cmath.phase(complex_number)\n",
    "\n",
    "# Output results with 3 decimal places\n",
    "print(f\"{modulus:.3f}\")\n",
    "print(f\"{phase_angle:.3f}\")"
   ]
  },
  {
   "cell_type": "code",
   "execution_count": null,
   "id": "ee36cd50",
   "metadata": {},
   "outputs": [],
   "source": []
  }
 ],
 "metadata": {
  "kernelspec": {
   "display_name": "Python 3 (ipykernel)",
   "language": "python",
   "name": "python3"
  },
  "language_info": {
   "codemirror_mode": {
    "name": "ipython",
    "version": 3
   },
   "file_extension": ".py",
   "mimetype": "text/x-python",
   "name": "python",
   "nbconvert_exporter": "python",
   "pygments_lexer": "ipython3",
   "version": "3.9.13"
  }
 },
 "nbformat": 4,
 "nbformat_minor": 5
}
