{
 "cells": [
  {
   "cell_type": "markdown",
   "id": "75d4bf9f",
   "metadata": {},
   "source": [
    "# Words Score1"
   ]
  },
  {
   "cell_type": "raw",
   "id": "e5c0defd",
   "metadata": {},
   "source": [
    "files.\n",
    "\n",
    "Consider that vowels in the alphabet are a, e, i, o, u and y.\n",
    "\n",
    "Function score_words takes a list of lowercase words as an argument and returns a score as follows:\n",
    "\n",
    "The score of a single word is  if the word contains an even number of vowels. Otherwise, the score of this word is . The score for the whole list of words is the sum of scores of all words in the list.\n",
    "\n",
    "Debug the given function score_words such that it returns a correct score.\n",
    "\n",
    "Your function will be tested on several cases by the locked template code.\n",
    "\n",
    "Input Format\n",
    "\n",
    "The input is read by the provided locked code template. In the first line, there is a single integer  denoting the number of words. In the second line, there are  space-separated lowercase words.\n",
    "\n",
    "Constraints\n",
    "\n",
    "Each word has at most  letters and all letters are English lowercase letters\n",
    "Output Format\n",
    "\n",
    "The output is produced by the provided and locked code template. It calls function score_words with the list of words read from the input as the argument and prints the returned score to the output.\n",
    "\n",
    "Sample Input 0\n",
    "\n",
    "2\n",
    "hacker book\n",
    "Sample Output 0\n",
    "\n",
    "4\n",
    "Explanation 0\n",
    "\n",
    "There are two words in the input: hacker and book. The score of the word hacker is  because it contains an even number of vowels, i.e.  vowels, and the score of book is  for the same reason. Thus the total score is .\n",
    "\n",
    "Sample Input 1\n",
    "\n",
    "3\n",
    "programming is awesome\n",
    "Sample Output 1\n",
    "\n",
    "4"
   ]
  },
  {
   "cell_type": "code",
   "execution_count": 2,
   "id": "176814a5",
   "metadata": {},
   "outputs": [
    {
     "name": "stdout",
     "output_type": "stream",
     "text": [
      "2\n",
      "hacker book\n",
      "4\n"
     ]
    }
   ],
   "source": [
    "import re\n",
    "\n",
    "# creating a function to count the words\n",
    "def score_words(A):\n",
    "    score=0\n",
    "    for i in A:\n",
    "        if len(re.findall(r\"[aeiouy]\",i)) %2 == 0: score += 2 \n",
    "        else: score+=1 \n",
    "    return score\n",
    "\n",
    "\n",
    "\n",
    "n = int(input())\n",
    "words = input().split()\n",
    "print(score_words(words))"
   ]
  },
  {
   "cell_type": "code",
   "execution_count": null,
   "id": "a32b1e50",
   "metadata": {},
   "outputs": [],
   "source": []
  }
 ],
 "metadata": {
  "kernelspec": {
   "display_name": "Python 3 (ipykernel)",
   "language": "python",
   "name": "python3"
  },
  "language_info": {
   "codemirror_mode": {
    "name": "ipython",
    "version": 3
   },
   "file_extension": ".py",
   "mimetype": "text/x-python",
   "name": "python",
   "nbconvert_exporter": "python",
   "pygments_lexer": "ipython3",
   "version": "3.9.13"
  }
 },
 "nbformat": 4,
 "nbformat_minor": 5
}
