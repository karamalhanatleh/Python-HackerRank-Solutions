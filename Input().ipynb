{
 "cells": [
  {
   "cell_type": "markdown",
   "id": "e7df12be",
   "metadata": {},
   "source": [
    "# Input()"
   ]
  },
  {
   "cell_type": "raw",
   "id": "e22d6c5e",
   "metadata": {},
   "source": [
    "This challenge is only forPython 2.\n",
    "\n",
    "input()\n",
    "In Python 2, the expression input() is equivalent to eval(raw _input(prompt)).\n",
    "\n",
    "Code\n",
    "\n",
    ">>> input()  \n",
    "1+2\n",
    "3\n",
    ">>> company = 'HackerRank'\n",
    ">>> website = 'www.hackerrank.com'\n",
    ">>> input()\n",
    "'The company name: '+company+' and website: '+website\n",
    "'The company name: HackerRank and website: www.hackerrank.com'\n",
    "Task\n",
    "\n",
    "You are given a polynomial  of a single indeterminate (or variable), .\n",
    "You are also given the values of  and . Your task is to verify if .\n",
    "\n",
    "Constraints\n",
    "All coefficients of polynomial  are integers.\n",
    " and  are also integers.\n",
    "\n",
    "Input Format\n",
    "\n",
    "The first line contains the space separated values of  and .\n",
    "The second line contains the polynomial .\n",
    "\n",
    "Output Format\n",
    "\n",
    "Print True if . Otherwise, print False.\n",
    "\n",
    "Sample Input\n",
    "\n",
    "1 4\n",
    "x**3 + x**2 + x + 1\n",
    "Sample Output\n",
    "\n",
    "True\n",
    "Explanation\n",
    "\n",
    "\n",
    "Hence, the output is True."
   ]
  },
  {
   "cell_type": "code",
   "execution_count": 16,
   "id": "2016b3f0",
   "metadata": {},
   "outputs": [
    {
     "name": "stdout",
     "output_type": "stream",
     "text": [
      "1 4\n",
      "x**3 + x**2 + x + 1\n"
     ]
    }
   ],
   "source": [
    "x,k=input().split()\n",
    "polynomial = input() "
   ]
  },
  {
   "cell_type": "code",
   "execution_count": 17,
   "id": "f3a64958",
   "metadata": {},
   "outputs": [],
   "source": [
    "x,k = int(x),int(k)"
   ]
  },
  {
   "cell_type": "code",
   "execution_count": 18,
   "id": "f946b480",
   "metadata": {},
   "outputs": [
    {
     "name": "stdout",
     "output_type": "stream",
     "text": [
      "True\n"
     ]
    }
   ],
   "source": [
    "if eval(polynomial)==k:\n",
    "    print(True)\n",
    "else:\n",
    "    print(False)"
   ]
  },
  {
   "cell_type": "code",
   "execution_count": null,
   "id": "403fa6ba",
   "metadata": {},
   "outputs": [],
   "source": []
  },
  {
   "cell_type": "code",
   "execution_count": null,
   "id": "bd202c45",
   "metadata": {},
   "outputs": [],
   "source": []
  },
  {
   "cell_type": "code",
   "execution_count": null,
   "id": "580c118e",
   "metadata": {},
   "outputs": [],
   "source": []
  },
  {
   "cell_type": "code",
   "execution_count": null,
   "id": "4102c755",
   "metadata": {},
   "outputs": [],
   "source": []
  },
  {
   "cell_type": "code",
   "execution_count": null,
   "id": "9b9fe05a",
   "metadata": {},
   "outputs": [],
   "source": []
  },
  {
   "cell_type": "code",
   "execution_count": null,
   "id": "0a6af693",
   "metadata": {},
   "outputs": [],
   "source": []
  },
  {
   "cell_type": "code",
   "execution_count": null,
   "id": "c78dfb0f",
   "metadata": {},
   "outputs": [],
   "source": []
  },
  {
   "cell_type": "code",
   "execution_count": null,
   "id": "51e60a9f",
   "metadata": {},
   "outputs": [],
   "source": []
  },
  {
   "cell_type": "code",
   "execution_count": null,
   "id": "fac5e9dd",
   "metadata": {},
   "outputs": [],
   "source": []
  },
  {
   "cell_type": "code",
   "execution_count": null,
   "id": "1677a9c4",
   "metadata": {},
   "outputs": [],
   "source": []
  }
 ],
 "metadata": {
  "kernelspec": {
   "display_name": "Python 3 (ipykernel)",
   "language": "python",
   "name": "python3"
  },
  "language_info": {
   "codemirror_mode": {
    "name": "ipython",
    "version": 3
   },
   "file_extension": ".py",
   "mimetype": "text/x-python",
   "name": "python",
   "nbconvert_exporter": "python",
   "pygments_lexer": "ipython3",
   "version": "3.9.13"
  }
 },
 "nbformat": 4,
 "nbformat_minor": 5
}
