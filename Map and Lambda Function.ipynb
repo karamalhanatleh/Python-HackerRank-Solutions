{
 "cells": [
  {
   "cell_type": "markdown",
   "id": "e9339f5d",
   "metadata": {},
   "source": [
    "# Map and Lambda Function"
   ]
  },
  {
   "cell_type": "raw",
   "id": "0c44762e",
   "metadata": {},
   "source": [
    "Let's learn some new Python concepts! You have to generate a list of the first  fibonacci numbers,  being the first number. Then, apply the map function and a lambda expression to cube each fibonacci number and print the list.\n",
    "\n",
    "Concept\n",
    "\n",
    "The map() function applies a function to every member of an iterable and returns the result. It takes two parameters: first, the function that is to be applied and secondly, the iterables.\n",
    "Let's say you are given a list of names, and you have to print a list that contains the length of each name.\n",
    "\n",
    ">> print (list(map(len, ['Tina', 'Raj', 'Tom'])))  \n",
    "[4, 3, 3]  \n",
    "Lambda is a single expression anonymous function often used as an inline function. In simple words, it is a function that has only one line in its body. It proves very handy in functional and GUI programming.\n",
    "\n",
    ">> sum = lambda a, b, c: a + b + c\n",
    ">> sum(1, 2, 3)\n",
    "6\n",
    "Note:\n",
    "\n",
    "Lambda functions cannot use the return statement and can only have a single expression. Unlike def, which creates a function and assigns it a name, lambda creates a function and returns the function itself. Lambda can be used inside lists and dictionaries.\n",
    "\n",
    "Input Format\n",
    "\n",
    "One line of input: an integer .\n",
    "\n",
    "Constraints\n",
    "\n",
    "\n",
    "Output Format\n",
    "\n",
    "A list on a single line containing the cubes of the first  fibonacci numbers.\n",
    "\n",
    "Sample Input\n",
    "\n",
    "5\n",
    "Sample Output\n",
    "\n",
    "[0, 1, 1, 8, 27]"
   ]
  },
  {
   "cell_type": "code",
   "execution_count": null,
   "id": "e3ca2e02",
   "metadata": {},
   "outputs": [],
   "source": []
  },
  {
   "cell_type": "code",
   "execution_count": 20,
   "id": "72dc90c6",
   "metadata": {},
   "outputs": [],
   "source": [
    "def fibonacci(n):\n",
    "    f=[0,1]\n",
    "    \n",
    "    for i in range(2,n):\n",
    "        f.append(f[-1]+f[-2])\n",
    "    return f[:n]"
   ]
  },
  {
   "cell_type": "code",
   "execution_count": 21,
   "id": "31881491",
   "metadata": {},
   "outputs": [
    {
     "name": "stdout",
     "output_type": "stream",
     "text": [
      "5\n"
     ]
    }
   ],
   "source": [
    "n=int(input())"
   ]
  },
  {
   "cell_type": "code",
   "execution_count": 22,
   "id": "2b9fc92c",
   "metadata": {},
   "outputs": [],
   "source": [
    "fib_num=fibonacci(n)"
   ]
  },
  {
   "cell_type": "code",
   "execution_count": 24,
   "id": "579ffd4c",
   "metadata": {},
   "outputs": [],
   "source": [
    "# Cube each Fibonacci number using map() and a lambda function\n",
    "cubed_fib = list(map(lambda x:x**3,fib_num))"
   ]
  },
  {
   "cell_type": "code",
   "execution_count": 25,
   "id": "7b7743cc",
   "metadata": {},
   "outputs": [
    {
     "data": {
      "text/plain": [
       "[0, 1, 1, 8, 27]"
      ]
     },
     "execution_count": 25,
     "metadata": {},
     "output_type": "execute_result"
    }
   ],
   "source": [
    "cubed_fib"
   ]
  },
  {
   "cell_type": "code",
   "execution_count": null,
   "id": "2c715a3f",
   "metadata": {},
   "outputs": [],
   "source": []
  },
  {
   "cell_type": "code",
   "execution_count": null,
   "id": "3dedfc12",
   "metadata": {},
   "outputs": [],
   "source": []
  },
  {
   "cell_type": "code",
   "execution_count": null,
   "id": "5f18ace3",
   "metadata": {},
   "outputs": [],
   "source": []
  },
  {
   "cell_type": "code",
   "execution_count": null,
   "id": "37f8e167",
   "metadata": {},
   "outputs": [],
   "source": []
  }
 ],
 "metadata": {
  "kernelspec": {
   "display_name": "Python 3 (ipykernel)",
   "language": "python",
   "name": "python3"
  },
  "language_info": {
   "codemirror_mode": {
    "name": "ipython",
    "version": 3
   },
   "file_extension": ".py",
   "mimetype": "text/x-python",
   "name": "python",
   "nbconvert_exporter": "python",
   "pygments_lexer": "ipython3",
   "version": "3.9.13"
  }
 },
 "nbformat": 4,
 "nbformat_minor": 5
}
