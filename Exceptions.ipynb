{
 "cells": [
  {
   "cell_type": "markdown",
   "id": "92a25ce6",
   "metadata": {},
   "source": [
    "# Exceptions"
   ]
  },
  {
   "cell_type": "raw",
   "id": "e4a5a6da",
   "metadata": {},
   "source": [
    "Exceptions\n",
    "Errors detected during execution are called exceptions.\n",
    "\n",
    "Examples:\n",
    "\n",
    "ZeroDivisionError\n",
    "This error is raised when the second argument of a division or modulo operation is zero.\n",
    "\n",
    ">>> a = '1'\n",
    ">>> b = '0'\n",
    ">>> print int(a) / int(b)\n",
    ">>> ZeroDivisionError: integer division or modulo by zero\n",
    "ValueError\n",
    "This error is raised when a built-in operation or function receives an argument that has the right type but an inappropriate value.\n",
    "\n",
    ">>> a = '1'\n",
    ">>> b = '#'\n",
    ">>> print int(a) / int(b)\n",
    ">>> ValueError: invalid literal for int() with base 10: '#'\n",
    "To learn more about different built-in exceptions click here.\n",
    "\n",
    "Handling Exceptions\n",
    "The statements try and except can be used to handle selected exceptions. A try statement may have more than one except clause to specify handlers for different exceptions.\n",
    "\n",
    "#Code\n",
    "try:\n",
    "    print 1/0\n",
    "except ZeroDivisionError as e:\n",
    "    print \"Error Code:\",e\n",
    "Output\n",
    "\n",
    "Error Code: integer division or modulo by zero\n",
    "\n",
    "Task\n",
    "\n",
    "You are given two values  and .\n",
    "Perform integer division and print .\n",
    "\n",
    "Input Format\n",
    "\n",
    "The first line contains , the number of test cases.\n",
    "The next  lines each contain the space separated values of  and .\n",
    "\n",
    "Constraints\n",
    "\n",
    "Output Format\n",
    "\n",
    "Print the value of .\n",
    "In the case of ZeroDivisionError or ValueError, print the error code.\n",
    "\n",
    "Sample Input\n",
    "\n",
    "3\n",
    "1 0\n",
    "2 $\n",
    "3 1\n",
    "Sample Output\n",
    "\n",
    "Error Code: integer division or modulo by zero\n",
    "Error Code: invalid literal for int() with base 10: '$'\n",
    "3\n",
    "Note:\n",
    "For integer division in Python 3 use //."
   ]
  },
  {
   "cell_type": "code",
   "execution_count": null,
   "id": "355570be",
   "metadata": {},
   "outputs": [],
   "source": []
  },
  {
   "cell_type": "code",
   "execution_count": null,
   "id": "3324f657",
   "metadata": {},
   "outputs": [],
   "source": []
  },
  {
   "cell_type": "code",
   "execution_count": 14,
   "id": "4d7d7f1d",
   "metadata": {},
   "outputs": [
    {
     "name": "stdout",
     "output_type": "stream",
     "text": [
      "3\n"
     ]
    }
   ],
   "source": [
    "n=int(input())"
   ]
  },
  {
   "cell_type": "code",
   "execution_count": 21,
   "id": "c564fae0",
   "metadata": {},
   "outputs": [
    {
     "name": "stdout",
     "output_type": "stream",
     "text": [
      "1 0\n",
      "Error Code: integer division or modulo by zero\n",
      "2 $\n",
      "Error Code: invalid literal for int() with base 10: '$'\n",
      "3 1\n",
      "3\n"
     ]
    }
   ],
   "source": [
    "for _ in range(n):\n",
    "    v=input().split()\n",
    "    a=v[0]\n",
    "    b=v[1]\n",
    "    \n",
    "    try:\n",
    "        result=int(a)//int(b)\n",
    "        print(result)\n",
    "    except ZeroDivisionError as e:\n",
    "        print(\"Error Code:\", e)\n",
    "    except ValueError as e:\n",
    "        print(\"Error Code:\", e)\n",
    "        \n"
   ]
  },
  {
   "cell_type": "code",
   "execution_count": null,
   "id": "aa4360cc",
   "metadata": {},
   "outputs": [],
   "source": []
  },
  {
   "cell_type": "code",
   "execution_count": null,
   "id": "3a5a01e0",
   "metadata": {},
   "outputs": [],
   "source": []
  },
  {
   "cell_type": "code",
   "execution_count": null,
   "id": "a6fc854a",
   "metadata": {},
   "outputs": [],
   "source": []
  },
  {
   "cell_type": "code",
   "execution_count": null,
   "id": "9db44184",
   "metadata": {},
   "outputs": [],
   "source": []
  },
  {
   "cell_type": "code",
   "execution_count": null,
   "id": "6f0c89d4",
   "metadata": {},
   "outputs": [],
   "source": []
  }
 ],
 "metadata": {
  "kernelspec": {
   "display_name": "Python 3 (ipykernel)",
   "language": "python",
   "name": "python3"
  },
  "language_info": {
   "codemirror_mode": {
    "name": "ipython",
    "version": 3
   },
   "file_extension": ".py",
   "mimetype": "text/x-python",
   "name": "python",
   "nbconvert_exporter": "python",
   "pygments_lexer": "ipython3",
   "version": "3.9.13"
  }
 },
 "nbformat": 4,
 "nbformat_minor": 5
}
