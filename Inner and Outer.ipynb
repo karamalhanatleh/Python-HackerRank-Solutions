{
 "cells": [
  {
   "cell_type": "markdown",
   "id": "0ee0c980",
   "metadata": {},
   "source": [
    "# Inner and Outer"
   ]
  },
  {
   "cell_type": "raw",
   "id": "78b92a71",
   "metadata": {},
   "source": [
    "ask\n",
    "\n",
    "You are given two arrays:  and .\n",
    "Your task is to compute their inner and outer product.\n",
    "\n",
    "Input Format\n",
    "\n",
    "The first line contains the space separated elements of array .\n",
    "The second line contains the space separated elements of array .\n",
    "\n",
    "Output Format\n",
    "\n",
    "First, print the inner product.\n",
    "Second, print the outer product.\n",
    "\n",
    "Sample Input\n",
    "\n",
    "0 1\n",
    "2 3\n",
    "Sample Output\n",
    "\n",
    "3\n",
    "[[0 0]\n",
    " [2 3]]"
   ]
  },
  {
   "cell_type": "markdown",
   "id": "f8aba531",
   "metadata": {},
   "source": [
    "------------"
   ]
  },
  {
   "cell_type": "code",
   "execution_count": 1,
   "id": "57f1f06c",
   "metadata": {},
   "outputs": [],
   "source": [
    "import numpy as np"
   ]
  },
  {
   "cell_type": "code",
   "execution_count": 28,
   "id": "6b274f17",
   "metadata": {},
   "outputs": [
    {
     "name": "stdout",
     "output_type": "stream",
     "text": [
      "0 1\n",
      "2 3\n"
     ]
    }
   ],
   "source": [
    "#  input  arrays\n",
    "A = np.array(list(map(int, input().split())))\n",
    "B = np.array(list(map(int, input().split())))\n"
   ]
  },
  {
   "cell_type": "code",
   "execution_count": 24,
   "id": "dc481613",
   "metadata": {},
   "outputs": [
    {
     "name": "stdout",
     "output_type": "stream",
     "text": [
      "0 1\n",
      "2 3\n"
     ]
    }
   ],
   "source": [
    "a=np.array([input().split()] , int )\n",
    "b=np.array([input().split()] , int )\n"
   ]
  },
  {
   "cell_type": "code",
   "execution_count": 29,
   "id": "c18f195b",
   "metadata": {},
   "outputs": [],
   "source": [
    "# Calculate  inner product\n",
    "inner_product = np.inner(A, B)\n",
    "\n",
    "# Calculate  outer product\n",
    "outer_product = np.outer(A, B)\n"
   ]
  },
  {
   "cell_type": "code",
   "execution_count": 30,
   "id": "c724fa11",
   "metadata": {},
   "outputs": [
    {
     "name": "stdout",
     "output_type": "stream",
     "text": [
      "3\n",
      "[[0 0]\n",
      " [2 3]]\n"
     ]
    }
   ],
   "source": [
    "# Print  results\n",
    "print(inner_product)\n",
    "print(outer_product)"
   ]
  },
  {
   "cell_type": "code",
   "execution_count": null,
   "id": "41292e13",
   "metadata": {},
   "outputs": [],
   "source": []
  },
  {
   "cell_type": "code",
   "execution_count": null,
   "id": "08b2365f",
   "metadata": {},
   "outputs": [],
   "source": []
  }
 ],
 "metadata": {
  "kernelspec": {
   "display_name": "Python 3 (ipykernel)",
   "language": "python",
   "name": "python3"
  },
  "language_info": {
   "codemirror_mode": {
    "name": "ipython",
    "version": 3
   },
   "file_extension": ".py",
   "mimetype": "text/x-python",
   "name": "python",
   "nbconvert_exporter": "python",
   "pygments_lexer": "ipython3",
   "version": "3.9.13"
  }
 },
 "nbformat": 4,
 "nbformat_minor": 5
}
