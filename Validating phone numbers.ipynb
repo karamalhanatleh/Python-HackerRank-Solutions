{
 "cells": [
  {
   "cell_type": "markdown",
   "id": "e6ebb4a6",
   "metadata": {},
   "source": [
    "# Validating phone numbers"
   ]
  },
  {
   "cell_type": "raw",
   "id": "e7361fbf",
   "metadata": {},
   "source": [
    "Input Format\n",
    "\n",
    "The first line contains an integer , the number of inputs.\n",
    " lines follow, each containing some string.\n",
    "\n",
    "Constraints\n",
    "\n",
    "\n",
    "\n",
    "Output Format\n",
    "\n",
    "For every string listed, print \"YES\" if it is a valid mobile number and \"NO\" if it is not on separate lines. Do not print the quotes.\n",
    "\n",
    "Sample Input\n",
    "\n",
    "2\n",
    "9587456281\n",
    "1252478965\n",
    "Sample Output\n",
    "\n",
    "YES\n",
    "NO"
   ]
  },
  {
   "cell_type": "code",
   "execution_count": null,
   "id": "998794d1",
   "metadata": {},
   "outputs": [],
   "source": []
  },
  {
   "cell_type": "code",
   "execution_count": 32,
   "id": "95b65196",
   "metadata": {},
   "outputs": [],
   "source": [
    "import re"
   ]
  },
  {
   "cell_type": "code",
   "execution_count": 38,
   "id": "19c1a839",
   "metadata": {},
   "outputs": [],
   "source": [
    "def is_Valid(number):\n",
    "    pattern=r'^[789]\\d{9}$'\n",
    "    \n",
    "    if re.match(pattern , number):\n",
    "        return 'YES'\n",
    "    else:\n",
    "        return 'NO'\n"
   ]
  },
  {
   "cell_type": "code",
   "execution_count": 39,
   "id": "fd39eb03",
   "metadata": {},
   "outputs": [
    {
     "name": "stdout",
     "output_type": "stream",
     "text": [
      "2\n"
     ]
    }
   ],
   "source": [
    "n=int(input())"
   ]
  },
  {
   "cell_type": "code",
   "execution_count": 40,
   "id": "963ec669",
   "metadata": {},
   "outputs": [
    {
     "name": "stdout",
     "output_type": "stream",
     "text": [
      "9587456281\n",
      "YES\n",
      "1252478965\n",
      "NO\n"
     ]
    }
   ],
   "source": [
    "for _ in range(n):\n",
    "    num=input()\n",
    "    print(is_Valid(num))"
   ]
  },
  {
   "cell_type": "code",
   "execution_count": 36,
   "id": "06a8c275",
   "metadata": {},
   "outputs": [
    {
     "data": {
      "text/plain": [
       "10"
      ]
     },
     "execution_count": 36,
     "metadata": {},
     "output_type": "execute_result"
    }
   ],
   "source": []
  },
  {
   "cell_type": "code",
   "execution_count": null,
   "id": "c52c0950",
   "metadata": {},
   "outputs": [],
   "source": []
  }
 ],
 "metadata": {
  "kernelspec": {
   "display_name": "Python 3 (ipykernel)",
   "language": "python",
   "name": "python3"
  },
  "language_info": {
   "codemirror_mode": {
    "name": "ipython",
    "version": 3
   },
   "file_extension": ".py",
   "mimetype": "text/x-python",
   "name": "python",
   "nbconvert_exporter": "python",
   "pygments_lexer": "ipython3",
   "version": "3.9.13"
  }
 },
 "nbformat": 4,
 "nbformat_minor": 5
}
