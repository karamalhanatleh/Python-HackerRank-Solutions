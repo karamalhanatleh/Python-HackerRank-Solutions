{
 "cells": [
  {
   "cell_type": "markdown",
   "id": "900001d2",
   "metadata": {},
   "source": [
    "# checks if a mobile phone number "
   ]
  },
  {
   "cell_type": "code",
   "execution_count": 6,
   "id": "42b7b0c1",
   "metadata": {},
   "outputs": [],
   "source": [
    "#import paskag\n",
    "import re"
   ]
  },
  {
   "cell_type": "code",
   "execution_count": 5,
   "id": "b9dc69cb",
   "metadata": {},
   "outputs": [],
   "source": [
    "def check(number):\n",
    "    pattern=r'^(07\\d{8}|00962\\d{8}|\\+9627\\d{8})$'\n",
    "    if re.match(pattern,number):\n",
    "        return \"Valid\"\n",
    "    else:\n",
    "        return 'Invalid'"
   ]
  },
  {
   "cell_type": "code",
   "execution_count": null,
   "id": "f62753f1",
   "metadata": {},
   "outputs": [],
   "source": []
  },
  {
   "cell_type": "code",
   "execution_count": 7,
   "id": "b246d104",
   "metadata": {},
   "outputs": [
    {
     "name": "stdout",
     "output_type": "stream",
     "text": [
      "3\n"
     ]
    }
   ],
   "source": [
    "#count of number phone\n",
    "n=int(input())"
   ]
  },
  {
   "cell_type": "code",
   "execution_count": 8,
   "id": "591403f2",
   "metadata": {},
   "outputs": [
    {
     "name": "stdout",
     "output_type": "stream",
     "text": [
      "0777502436\n",
      "Valid\n",
      "00962777502436\n",
      "Invalid\n",
      "+96277777\n",
      "Invalid\n"
     ]
    }
   ],
   "source": [
    "for _ in range(n):\n",
    "    n=input()\n",
    "    print(check(n))"
   ]
  },
  {
   "cell_type": "code",
   "execution_count": null,
   "id": "6a6595fa",
   "metadata": {},
   "outputs": [],
   "source": []
  }
 ],
 "metadata": {
  "kernelspec": {
   "display_name": "Python 3 (ipykernel)",
   "language": "python",
   "name": "python3"
  },
  "language_info": {
   "codemirror_mode": {
    "name": "ipython",
    "version": 3
   },
   "file_extension": ".py",
   "mimetype": "text/x-python",
   "name": "python",
   "nbconvert_exporter": "python",
   "pygments_lexer": "ipython3",
   "version": "3.9.13"
  }
 },
 "nbformat": 4,
 "nbformat_minor": 5
}
