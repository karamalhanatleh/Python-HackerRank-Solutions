{
 "cells": [
  {
   "cell_type": "markdown",
   "id": "560e19e1",
   "metadata": {},
   "source": [
    "# Incorrect Regex"
   ]
  },
  {
   "cell_type": "raw",
   "id": "d6f13499",
   "metadata": {},
   "source": [
    "You are given a string .\n",
    "Your task is to find out whether  is a valid regex or not.\n",
    "\n",
    "Input Format\n",
    "\n",
    "The first line contains integer , the number of test cases.\n",
    "The next  lines contains the string .\n",
    "\n",
    "Constraints\n",
    "\n",
    "\n",
    "Output Format\n",
    "\n",
    "Print \"True\" or \"False\" for each test case without quotes.\n",
    "\n",
    "Sample Input\n",
    "\n",
    "2\n",
    ".*\\+\n",
    ".*+\n",
    "Sample Output\n",
    "\n",
    "True\n",
    "False\n",
    "Explanation\n",
    "\n",
    ".*\\+ : Valid regex.\n",
    ".*+: Has the error multiple repeat. Hence, it is invalid."
   ]
  },
  {
   "cell_type": "code",
   "execution_count": 2,
   "id": "948fe5e8",
   "metadata": {},
   "outputs": [
    {
     "name": "stdout",
     "output_type": "stream",
     "text": [
      "2\n",
      ".*\\+\n",
      "True\n",
      ".*+\n",
      "False\n"
     ]
    }
   ],
   "source": [
    "import re\n",
    "\n",
    "T = int(input())\n",
    "for i in range(T):\n",
    "    try:\n",
    "        re.compile(input())\n",
    "        print( True)\n",
    "    except:\n",
    "        print (False)"
   ]
  },
  {
   "cell_type": "code",
   "execution_count": null,
   "id": "58ae54c1",
   "metadata": {},
   "outputs": [],
   "source": []
  }
 ],
 "metadata": {
  "kernelspec": {
   "display_name": "Python 3 (ipykernel)",
   "language": "python",
   "name": "python3"
  },
  "language_info": {
   "codemirror_mode": {
    "name": "ipython",
    "version": 3
   },
   "file_extension": ".py",
   "mimetype": "text/x-python",
   "name": "python",
   "nbconvert_exporter": "python",
   "pygments_lexer": "ipython3",
   "version": "3.9.13"
  }
 },
 "nbformat": 4,
 "nbformat_minor": 5
}
