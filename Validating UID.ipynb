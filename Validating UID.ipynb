{
 "cells": [
  {
   "cell_type": "raw",
   "id": "aadd9a6d",
   "metadata": {},
   "source": [
    "ABCXYZ company has up to  employees.\n",
    "The company decides to create a unique identification number (UID) for each of its employees.\n",
    "The company has assigned you the task of validating all the randomly generated UIDs.\n",
    "\n",
    "A valid UID must follow the rules below:\n",
    "\n",
    "It must contain at least  uppercase English alphabet characters.\n",
    "It must contain at least  digits ( - ).\n",
    "It should only contain alphanumeric characters ( - ,  -  &  - ).\n",
    "No character should repeat.\n",
    "There must be exactly  characters in a valid UID.\n",
    "Input Format\n",
    "\n",
    "The first line contains an integer , the number of test cases.\n",
    "The next  lines contains an employee's UID.\n",
    "\n",
    "Output Format\n",
    "\n",
    "For each test case, print 'Valid' if the UID is valid. Otherwise, print 'Invalid', on separate lines. Do not print the quotation marks.\n",
    "\n",
    "Sample Input\n",
    "\n",
    "2\n",
    "B1CD102354\n",
    "B1CDEF2354\n",
    "Sample Output\n",
    "\n",
    "Invalid\n",
    "Valid\n",
    "Explanation\n",
    "\n",
    "B1CD102354:  is repeating → Invalid\n",
    "B1CDEF2354: Valid"
   ]
  },
  {
   "cell_type": "code",
   "execution_count": 10,
   "id": "109b23ee",
   "metadata": {},
   "outputs": [],
   "source": [
    "import re "
   ]
  },
  {
   "cell_type": "code",
   "execution_count": 14,
   "id": "23f49d38",
   "metadata": {},
   "outputs": [],
   "source": [
    "def check_unique(uid):\n",
    "    # Check length of UID\n",
    "    if len(uid) != 10:\n",
    "        return False\n",
    "\n",
    "    # Check if all characters are alphanumeric and no repetition\n",
    "    if len(set(uid)) != 10 or not uid.isalnum():\n",
    "        return False\n",
    "\n",
    "    # Check for at least 2 uppercase letters\n",
    "    if len(re.findall(r'[A-Z]', uid)) < 2:\n",
    "        return False\n",
    "\n",
    "    # Check for at least 3 digits\n",
    "    if len(re.findall(r'[0-9]', uid)) < 3:\n",
    "        return False\n",
    "\n",
    "    return True\n"
   ]
  },
  {
   "cell_type": "code",
   "execution_count": 12,
   "id": "5c2b8fb8",
   "metadata": {},
   "outputs": [
    {
     "name": "stdout",
     "output_type": "stream",
     "text": [
      "2\n"
     ]
    }
   ],
   "source": [
    "uid_input=int(input())"
   ]
  },
  {
   "cell_type": "code",
   "execution_count": 17,
   "id": "f6088939",
   "metadata": {},
   "outputs": [
    {
     "name": "stdout",
     "output_type": "stream",
     "text": [
      "B1CD102354\n",
      "Invalid\n",
      "B1CDEF2354\n",
      "Valid\n"
     ]
    }
   ],
   "source": [
    "for _ in range(uid_input):\n",
    "    uid = input().strip()\n",
    "    if check_unique(uid):\n",
    "        print(\"Valid\")\n",
    "    else:\n",
    "        print(\"Invalid\")\n"
   ]
  },
  {
   "cell_type": "code",
   "execution_count": null,
   "id": "a6648d74",
   "metadata": {},
   "outputs": [],
   "source": []
  }
 ],
 "metadata": {
  "kernelspec": {
   "display_name": "Python 3 (ipykernel)",
   "language": "python",
   "name": "python3"
  },
  "language_info": {
   "codemirror_mode": {
    "name": "ipython",
    "version": 3
   },
   "file_extension": ".py",
   "mimetype": "text/x-python",
   "name": "python",
   "nbconvert_exporter": "python",
   "pygments_lexer": "ipython3",
   "version": "3.9.13"
  }
 },
 "nbformat": 4,
 "nbformat_minor": 5
}
