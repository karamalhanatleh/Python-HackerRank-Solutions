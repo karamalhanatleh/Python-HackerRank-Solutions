{
 "cells": [
  {
   "cell_type": "markdown",
   "id": "faa2d132",
   "metadata": {},
   "source": [
    "# Word Order"
   ]
  },
  {
   "cell_type": "raw",
   "id": "ee7a0874",
   "metadata": {},
   "source": [
    "You are given  words. Some words may repeat. For each word, output its number of occurrences. The output order should correspond with the input order of appearance of the word. See the sample input/output for clarification.\n",
    "\n",
    "Note: Each input line ends with a \"\\n\" character.\n",
    "\n",
    "Constraints:\n",
    "\n",
    "The sum of the lengths of all the words do not exceed \n",
    "All the words are composed of lowercase English letters only.\n",
    "\n",
    "Input Format\n",
    "\n",
    "The first line contains the integer, .\n",
    "The next  lines each contain a word.\n",
    "\n",
    "Output Format\n",
    "\n",
    "Output  lines.\n",
    "On the first line, output the number of distinct words from the input.\n",
    "On the second line, output the number of occurrences for each distinct word according to their appearance in the input.\n",
    "\n",
    "Sample Input\n",
    "\n",
    "4\n",
    "bcdef\n",
    "abcdefg\n",
    "bcde\n",
    "bcdef\n",
    "Sample Output\n",
    "\n",
    "3\n",
    "2 1 1\n",
    "Explanation\n",
    "\n",
    "There are  distinct words. Here, \"bcdef\" appears twice in the input at the first and last positions. The other words appear once each. The order of the first appearances are \"bcdef\", \"abcdefg\" and \"bcde\" which corresponds to the output."
   ]
  },
  {
   "cell_type": "code",
   "execution_count": null,
   "id": "a84d2612",
   "metadata": {},
   "outputs": [],
   "source": []
  },
  {
   "cell_type": "code",
   "execution_count": 1,
   "id": "099d09d3",
   "metadata": {},
   "outputs": [],
   "source": [
    "from collections import OrderedDict"
   ]
  },
  {
   "cell_type": "code",
   "execution_count": 2,
   "id": "0cd1a81c",
   "metadata": {},
   "outputs": [],
   "source": [
    "word_count = OrderedDict()"
   ]
  },
  {
   "cell_type": "code",
   "execution_count": 3,
   "id": "10f08637",
   "metadata": {},
   "outputs": [
    {
     "name": "stdout",
     "output_type": "stream",
     "text": [
      "4\n"
     ]
    }
   ],
   "source": [
    "#num of words\n",
    "n=int(input())"
   ]
  },
  {
   "cell_type": "code",
   "execution_count": 4,
   "id": "dce83d21",
   "metadata": {},
   "outputs": [
    {
     "name": "stdout",
     "output_type": "stream",
     "text": [
      "bcdef\n",
      "abcdefg\n",
      "bcde\n",
      "bcdef\n"
     ]
    }
   ],
   "source": [
    "for _ in range(n):\n",
    "    word = input().strip()\n",
    "    if word in word_count:\n",
    "        word_count[word]+=1\n",
    "    else:\n",
    "        word_count[word]=1"
   ]
  },
  {
   "cell_type": "code",
   "execution_count": 5,
   "id": "beae9919",
   "metadata": {},
   "outputs": [
    {
     "name": "stdout",
     "output_type": "stream",
     "text": [
      "3\n"
     ]
    }
   ],
   "source": [
    "#distince words len\n",
    "print(len(word_count))"
   ]
  },
  {
   "cell_type": "code",
   "execution_count": 6,
   "id": "8d719367",
   "metadata": {},
   "outputs": [
    {
     "name": "stdout",
     "output_type": "stream",
     "text": [
      "2 1 1\n"
     ]
    }
   ],
   "source": [
    "# Output the counts of each word in the order they appeared\n",
    "print(\" \".join(map(str , word_count.values())))"
   ]
  },
  {
   "cell_type": "code",
   "execution_count": null,
   "id": "662b9eee",
   "metadata": {},
   "outputs": [],
   "source": []
  },
  {
   "cell_type": "code",
   "execution_count": null,
   "id": "98e3d552",
   "metadata": {},
   "outputs": [],
   "source": []
  }
 ],
 "metadata": {
  "kernelspec": {
   "display_name": "Python 3 (ipykernel)",
   "language": "python",
   "name": "python3"
  },
  "language_info": {
   "codemirror_mode": {
    "name": "ipython",
    "version": 3
   },
   "file_extension": ".py",
   "mimetype": "text/x-python",
   "name": "python",
   "nbconvert_exporter": "python",
   "pygments_lexer": "ipython3",
   "version": "3.9.13"
  }
 },
 "nbformat": 4,
 "nbformat_minor": 5
}
