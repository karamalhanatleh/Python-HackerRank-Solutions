{
 "cells": [
  {
   "cell_type": "raw",
   "id": "b8dc38fa",
   "metadata": {},
   "source": [
    "Task\n",
    "Given an integer, , and  space-separated integers as input, create a tuple, , of those  integers. Then compute and print the result of .hash(t)\n",
    "\n",
    "Note: hash() is one of the functions in the __builtins__ module, so it need not be imported.\n",
    "\n",
    "Input Format\n",
    "\n",
    "The first line contains an integer, , denoting the number of elements in the tuple.\n",
    "The second line contains  space-separated integers describing the elements in tuple .\n",
    "\n",
    "Output Format\n",
    "\n",
    "Print the result of .hash(t)\n",
    "\n",
    "Sample Input 0\n",
    "\n",
    "2\n",
    "1 2\n",
    "Sample Output 0\n",
    "\n",
    "3713081631934410656"
   ]
  },
  {
   "cell_type": "code",
   "execution_count": 14,
   "id": "9b850dd8",
   "metadata": {},
   "outputs": [
    {
     "name": "stdout",
     "output_type": "stream",
     "text": [
      "1\n",
      "1 2\n",
      "-3550055125485641917\n"
     ]
    }
   ],
   "source": [
    "if __name__ == '__main__':\n",
    "\n",
    "    n = int(input())\n",
    "\n",
    "    Tuple1 = map(int, input().split())\n",
    "\n",
    "    t = tuple(Tuple1)\n",
    "\n",
    "    print(hash(t));\n",
    "\n",
    "    "
   ]
  },
  {
   "cell_type": "code",
   "execution_count": null,
   "id": "732ab949",
   "metadata": {},
   "outputs": [],
   "source": []
  },
  {
   "cell_type": "code",
   "execution_count": null,
   "id": "05eb2906",
   "metadata": {},
   "outputs": [],
   "source": []
  }
 ],
 "metadata": {
  "kernelspec": {
   "display_name": "Python 3 (ipykernel)",
   "language": "python",
   "name": "python3"
  },
  "language_info": {
   "codemirror_mode": {
    "name": "ipython",
    "version": 3
   },
   "file_extension": ".py",
   "mimetype": "text/x-python",
   "name": "python",
   "nbconvert_exporter": "python",
   "pygments_lexer": "ipython3",
   "version": "3.9.13"
  }
 },
 "nbformat": 4,
 "nbformat_minor": 5
}
