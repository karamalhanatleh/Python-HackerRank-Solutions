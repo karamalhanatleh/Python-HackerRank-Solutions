{
 "cells": [
  {
   "cell_type": "markdown",
   "id": "e7600bee",
   "metadata": {},
   "source": [
    "# itertools.permutations()"
   ]
  },
  {
   "cell_type": "raw",
   "id": "e14a149e",
   "metadata": {},
   "source": [
    "itertools.permutations(iterable[, r])\n",
    "\n",
    "This tool returns successive  length permutations of elements in an iterable.\n",
    "\n",
    "If  is not specified or is None, then  defaults to the length of the iterable, and all possible full length permutations are generated.\n",
    "\n",
    "Permutations are printed in a lexicographic sorted order. So, if the input iterable is sorted, the permutation tuples will be produced in a sorted order.\n",
    "\n",
    "Sample Code\n",
    "\n",
    ">>> from itertools import permutations\n",
    ">>> print permutations(['1','2','3'])\n",
    "<itertools.permutations object at 0x02A45210>\n",
    ">>> \n",
    ">>> print list(permutations(['1','2','3']))\n",
    "[('1', '2', '3'), ('1', '3', '2'), ('2', '1', '3'), ('2', '3', '1'), ('3', '1', '2'), ('3', '2', '1')]\n",
    ">>> \n",
    ">>> print list(permutations(['1','2','3'],2))\n",
    "[('1', '2'), ('1', '3'), ('2', '1'), ('2', '3'), ('3', '1'), ('3', '2')]\n",
    ">>>\n",
    ">>> print list(permutations('abc',3))\n",
    "[('a', 'b', 'c'), ('a', 'c', 'b'), ('b', 'a', 'c'), ('b', 'c', 'a'), ('c', 'a', 'b'), ('c', 'b', 'a')]\n",
    "Task\n",
    "\n",
    "You are given a string .\n",
    "Your task is to print all possible permutations of size  of the string in lexicographic sorted order.\n",
    "\n",
    "Input Format\n",
    "\n",
    "A single line containing the space separated string  and the integer value .\n",
    "\n",
    "Constraints\n",
    "\n",
    "\n",
    "The string contains only UPPERCASE characters.\n",
    "\n",
    "Output Format\n",
    "\n",
    "Print the permutations of the string  on separate lines.\n",
    "\n",
    "Sample Input\n",
    "\n",
    "HACK 2\n",
    "Sample Output\n",
    "\n",
    "AC\n",
    "AH\n",
    "AK\n",
    "CA\n",
    "CH\n",
    "CK\n",
    "HA\n",
    "HC\n",
    "HK\n",
    "KA\n",
    "KC\n",
    "KH\n",
    "Explanation\n",
    "\n",
    "All possible size  permutations of the string \"HACK\" are printed in lexicographic sorted order."
   ]
  },
  {
   "cell_type": "code",
   "execution_count": 78,
   "id": "af03d235",
   "metadata": {},
   "outputs": [],
   "source": [
    "from itertools import permutations"
   ]
  },
  {
   "cell_type": "code",
   "execution_count": 85,
   "id": "22c20683",
   "metadata": {},
   "outputs": [
    {
     "name": "stdout",
     "output_type": "stream",
     "text": [
      "HACK 2\n"
     ]
    }
   ],
   "source": [
    "w,n=input().split()"
   ]
  },
  {
   "cell_type": "code",
   "execution_count": 86,
   "id": "b6579f48",
   "metadata": {},
   "outputs": [],
   "source": [
    "l_per= (list(permutations(sorted(w),int(n))))"
   ]
  },
  {
   "cell_type": "code",
   "execution_count": 87,
   "id": "5899ba84",
   "metadata": {
    "scrolled": true
   },
   "outputs": [
    {
     "name": "stdout",
     "output_type": "stream",
     "text": [
      "AC\n",
      "AH\n",
      "AK\n",
      "CA\n",
      "CH\n",
      "CK\n",
      "HA\n",
      "HC\n",
      "HK\n",
      "KA\n",
      "KC\n",
      "KH\n"
     ]
    }
   ],
   "source": [
    "for i in range(len(l_per)):\n",
    "    print(\"\".join(l_per[i]))"
   ]
  },
  {
   "cell_type": "code",
   "execution_count": null,
   "id": "c347ec41",
   "metadata": {},
   "outputs": [],
   "source": []
  },
  {
   "cell_type": "code",
   "execution_count": null,
   "id": "147fcdc7",
   "metadata": {},
   "outputs": [],
   "source": []
  },
  {
   "cell_type": "code",
   "execution_count": null,
   "id": "9fc1f301",
   "metadata": {},
   "outputs": [],
   "source": []
  }
 ],
 "metadata": {
  "kernelspec": {
   "display_name": "Python 3 (ipykernel)",
   "language": "python",
   "name": "python3"
  },
  "language_info": {
   "codemirror_mode": {
    "name": "ipython",
    "version": 3
   },
   "file_extension": ".py",
   "mimetype": "text/x-python",
   "name": "python",
   "nbconvert_exporter": "python",
   "pygments_lexer": "ipython3",
   "version": "3.9.13"
  }
 },
 "nbformat": 4,
 "nbformat_minor": 5
}
