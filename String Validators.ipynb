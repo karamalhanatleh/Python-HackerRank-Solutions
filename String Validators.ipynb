{
 "cells": [
  {
   "cell_type": "markdown",
   "id": "8ae758b0",
   "metadata": {},
   "source": [
    "# String Validators"
   ]
  },
  {
   "cell_type": "markdown",
   "id": "d33f00b3",
   "metadata": {},
   "source": [
    "Python has built-in string validation methods for basic data. It can check if a string is composed of alphabetical characters, alphanumeric characters, digits, etc.\n",
    "\n",
    "str.isalnum()\n",
    "This method checks if all the characters of a string are alphanumeric (a-z, A-Z and 0-9)."
   ]
  },
  {
   "cell_type": "raw",
   "id": "7a0773a3",
   "metadata": {},
   "source": [
    ">>> print 'ab123'.isalnum()\n",
    "True\n",
    ">>> print 'ab123#'.isalnum()\n",
    "False"
   ]
  },
  {
   "cell_type": "markdown",
   "id": "d15256e1",
   "metadata": {},
   "source": [
    "str.isalpha()\n",
    "This method checks if all the characters of a string are alphabetical (a-z and A-Z)."
   ]
  },
  {
   "cell_type": "raw",
   "id": "a2964c7d",
   "metadata": {},
   "source": [
    ">>> print 'abcD'.isalpha()\n",
    "True\n",
    ">>> print 'abcd1'.isalpha()\n",
    "False"
   ]
  },
  {
   "cell_type": "markdown",
   "id": "b1005a3e",
   "metadata": {},
   "source": [
    "str.isdigit()\n",
    "This method checks if all the characters of a string are digits (0-9)."
   ]
  },
  {
   "cell_type": "raw",
   "id": "baf2e956",
   "metadata": {},
   "source": [
    ">>> print '1234'.isdigit()\n",
    "True\n",
    ">>> print '123edsd'.isdigit()\n",
    "False"
   ]
  },
  {
   "cell_type": "markdown",
   "id": "b1aff606",
   "metadata": {},
   "source": [
    "\n",
    "str.islower()\n",
    "This method checks if all the characters of a string are lowercase characters (a-z)."
   ]
  },
  {
   "cell_type": "raw",
   "id": "3cb46beb",
   "metadata": {},
   "source": [
    ">>> print 'abcd123#'.islower()\n",
    "True\n",
    ">>> print 'Abcd123#'.islower()\n",
    "False"
   ]
  },
  {
   "cell_type": "markdown",
   "id": "a0a9be25",
   "metadata": {},
   "source": [
    "str.isupper()\n",
    "This method checks if all the characters of a string are uppercase characters (A-Z)."
   ]
  },
  {
   "cell_type": "raw",
   "id": "c960889d",
   "metadata": {},
   "source": [
    ">>> print 'ABCD123#'.isupper()\n",
    "True\n",
    ">>> print 'Abcd123#'.isupper()\n",
    "False"
   ]
  },
  {
   "cell_type": "markdown",
   "id": "0a89bc23",
   "metadata": {},
   "source": [
    "Task\n",
    "\n",
    "You are given a string .\n",
    "Your task is to find out if the string  contains: alphanumeric characters, alphabetical characters, digits, lowercase and uppercase characters.\n",
    "\n",
    "Input Format\n",
    "\n",
    "A single line containing a string .\n",
    "\n",
    "Constraints\n",
    "\n",
    "\n",
    "Output Format\n",
    "\n",
    "In the first line, print True if  has any alphanumeric characters. Otherwise, print False.\n",
    "In the second line, print True if  has any alphabetical characters. Otherwise, print False.\n",
    "In the third line, print True if  has any digits. Otherwise, print False.\n",
    "In the fourth line, print True if  has any lowercase characters. Otherwise, print False.\n",
    "In the fifth line, print True if  has any uppercase characters. Otherwise, print False."
   ]
  },
  {
   "cell_type": "raw",
   "id": "68b8af69",
   "metadata": {},
   "source": [
    "smple Input\n",
    "\n",
    "qA2\n",
    "Sample Output\n",
    "\n",
    "True\n",
    "True\n",
    "True\n",
    "True\n",
    "True"
   ]
  },
  {
   "cell_type": "code",
   "execution_count": null,
   "id": "2896cd3a",
   "metadata": {},
   "outputs": [],
   "source": []
  },
  {
   "cell_type": "code",
   "execution_count": 16,
   "id": "51780f4d",
   "metadata": {},
   "outputs": [
    {
     "name": "stdout",
     "output_type": "stream",
     "text": [
      "karam1234\n",
      "True\n",
      "True\n",
      "True\n",
      "True\n",
      "False\n"
     ]
    }
   ],
   "source": [
    "if __name__ == '__main__':\n",
    "    s = input()\n",
    "    print(any(c.isalnum() for c in s))  # Alphanumeric check\n",
    "    print(any(c.isalpha() for c in s))  # Alphabetical check\n",
    "    print(any(c.isdigit() for c in s))  # Digit check\n",
    "    print(any(c.islower() for c in s))  # Lowercase check\n",
    "    print(any(c.isupper() for c in s))  # Uppercase check\n"
   ]
  },
  {
   "cell_type": "code",
   "execution_count": null,
   "id": "3485d088",
   "metadata": {},
   "outputs": [],
   "source": []
  }
 ],
 "metadata": {
  "kernelspec": {
   "display_name": "Python 3 (ipykernel)",
   "language": "python",
   "name": "python3"
  },
  "language_info": {
   "codemirror_mode": {
    "name": "ipython",
    "version": 3
   },
   "file_extension": ".py",
   "mimetype": "text/x-python",
   "name": "python",
   "nbconvert_exporter": "python",
   "pygments_lexer": "ipython3",
   "version": "3.9.13"
  }
 },
 "nbformat": 4,
 "nbformat_minor": 5
}
