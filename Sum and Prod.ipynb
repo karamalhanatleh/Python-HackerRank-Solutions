{
 "cells": [
  {
   "cell_type": "markdown",
   "id": "3c1589e0",
   "metadata": {},
   "source": [
    "# Sum and Prod"
   ]
  },
  {
   "cell_type": "raw",
   "id": "40a7f509",
   "metadata": {},
   "source": [
    "Task\n",
    "\n",
    "You are given a 2-D array with dimensions X.\n",
    "Your task is to perform the  tool over axis  and then find the  of that result.\n",
    "\n",
    "Input Format\n",
    "\n",
    "The first line of input contains space separated values of  and .\n",
    "The next  lines contains  space separated integers.\n",
    "\n",
    "Output Format\n",
    "\n",
    "Compute the sum along axis . Then, print the product of that sum.\n",
    "\n",
    "Sample Input\n",
    "\n",
    "2 2\n",
    "1 2\n",
    "3 4\n",
    "Sample Output\n",
    "\n",
    "24\n",
    "Explanation\n",
    "\n",
    "The sum along axis  = [ ]\n",
    "The product of this sum = "
   ]
  },
  {
   "cell_type": "markdown",
   "id": "133c2bc2",
   "metadata": {},
   "source": [
    " ______________"
   ]
  },
  {
   "cell_type": "code",
   "execution_count": 17,
   "id": "7ef01fe9",
   "metadata": {},
   "outputs": [],
   "source": [
    "import numpy"
   ]
  },
  {
   "cell_type": "code",
   "execution_count": 18,
   "id": "21d3e64f",
   "metadata": {},
   "outputs": [
    {
     "name": "stdout",
     "output_type": "stream",
     "text": [
      "2 2\n"
     ]
    }
   ],
   "source": [
    "n,m = map(int , input().split())"
   ]
  },
  {
   "cell_type": "code",
   "execution_count": 19,
   "id": "19750013",
   "metadata": {
    "scrolled": true
   },
   "outputs": [
    {
     "name": "stdout",
     "output_type": "stream",
     "text": [
      "1 2 \n",
      "3 4\n"
     ]
    }
   ],
   "source": [
    "arr = numpy.array([list(map(int, input().split())) for _ in range(n)])"
   ]
  },
  {
   "cell_type": "code",
   "execution_count": 20,
   "id": "972f5cb5",
   "metadata": {},
   "outputs": [],
   "source": [
    "#  sum axis 0\n",
    "sum_result = numpy.sum(my_array, axis=0)"
   ]
  },
  {
   "cell_type": "code",
   "execution_count": 21,
   "id": "1fe60cb0",
   "metadata": {},
   "outputs": [],
   "source": [
    "# Calculate  product \n",
    "prod_result = numpy.prod(sum_result)"
   ]
  },
  {
   "cell_type": "code",
   "execution_count": 22,
   "id": "03ed27eb",
   "metadata": {},
   "outputs": [
    {
     "name": "stdout",
     "output_type": "stream",
     "text": [
      "24\n"
     ]
    }
   ],
   "source": [
    "#  result\n",
    "print(prod_result)\n"
   ]
  },
  {
   "cell_type": "code",
   "execution_count": null,
   "id": "3228606b",
   "metadata": {},
   "outputs": [],
   "source": []
  }
 ],
 "metadata": {
  "kernelspec": {
   "display_name": "Python 3 (ipykernel)",
   "language": "python",
   "name": "python3"
  },
  "language_info": {
   "codemirror_mode": {
    "name": "ipython",
    "version": 3
   },
   "file_extension": ".py",
   "mimetype": "text/x-python",
   "name": "python",
   "nbconvert_exporter": "python",
   "pygments_lexer": "ipython3",
   "version": "3.9.13"
  }
 },
 "nbformat": 4,
 "nbformat_minor": 5
}
