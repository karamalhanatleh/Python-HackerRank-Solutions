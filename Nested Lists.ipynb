{
 "cells": [
  {
   "cell_type": "markdown",
   "id": "67700819",
   "metadata": {},
   "source": [
    "# Nested Lists"
   ]
  },
  {
   "cell_type": "markdown",
   "id": "5d878d22",
   "metadata": {},
   "source": [
    "Given the names and grades for each student in a class of \n",
    "\n",
    " If there are multiple students with the second lowest grade, order their names alphabetically and print each name on a new line.\n",
    "\n",
    "Example\n",
    "Example records = [[\"chi\", 20.0], [\"beta\", 50.0], [\"alpha\", 50.0]] The ordered list of scores is (20.0, 50.0], so the second lowest score is 50.0. There are two students with that score: [\"beta\", \"alpha\"]. Ordered alphabetically, the names are printed as:\n",
    "\n",
    "Input Format The first line contains an integer, N, the number of students. The 2N subsequent lines describe each student over 2 lines.\n",
    " - The first line contains a student's name.\n",
    " - The second line contains their grade.\n",
    "\n",
    "Constraints\n",
    " 2≤ N ≤5 \n",
    "There will always be one or more students having the second lowest grade.\n",
    "\n",
    "Output\n",
    " Format Print the name(s) of any student(s) having the second lowest grade in. If there are multiple students, order their names alphabetically and print each one on a new line.\n",
    "\n",
    "Sample Input O\n",
    "5 \n",
    "Harry \n",
    "37.21\n",
    " Berry \n",
    "37.21 \n",
    "Tina \n",
    "37.2 \n",
    "Akriti\n",
    " 41 \n",
    "Harsh\n",
    " 39\n",
    "\n",
    "Sample Output 0\n",
    "Berry\n",
    "Harry\n",
    "\n",
    "Explanation 0\n",
    "There are  5 students in this class whose names and grades are assembled to build the following list:\n",
    "python students = [['Harry', 37.21], ['Berry', 37.21], ['Tina', 37.2], ['Akriti', 41], ['Harsh', 39]]\n",
    "\n",
    "\n",
    "The lowest grade of 37.2  belongs to Tina. The second lowest grade of 37.21 belongs to both Harry and Berry, so we order their names alphabetically and print each name on a new line.\n",
    "\n",
    "\n",
    "\n",
    "\n",
    "\n",
    "\n",
    "\n",
    "\n",
    "\n",
    "\n"
   ]
  },
  {
   "cell_type": "code",
   "execution_count": null,
   "id": "c9868a27",
   "metadata": {},
   "outputs": [],
   "source": []
  },
  {
   "cell_type": "markdown",
   "id": "0a5a8add",
   "metadata": {},
   "source": [
    "To solve :steps can be broken down :\n",
    "\n",
    "1. Input the number of students, `N`.\n",
    "2. For each student, input their name and grade, and store them in a list.\n",
    "3. Identify the second-lowest grade by:\n",
    "   - Sorting the list of grades.\n",
    "   - Extracting the second lowest grade.\n",
    "4. Find all students with the second-lowest grade.\n",
    "5. Sort the students' names alphabetically and print each name on a new line.\n",
    "\n"
   ]
  },
  {
   "cell_type": "code",
   "execution_count": 27,
   "id": "17da1610",
   "metadata": {},
   "outputs": [
    {
     "name": "stdout",
     "output_type": "stream",
     "text": [
      "5\n",
      "A\n",
      "10\n",
      "B\n",
      "20\n",
      "C\n",
      "20\n",
      "D\n",
      "30\n",
      "E\n",
      "40\n",
      "____________________\n",
      "B\n",
      "C\n"
     ]
    }
   ],
   "source": [
    "if __name__ == '__main__':\n",
    "    \n",
    "    \n",
    "    students = {}\n",
    "    for _ in range(int(input())):\n",
    "        name = input()\n",
    "        score = float(input())\n",
    "        students[name]=score\n",
    "        \n",
    "    unique_scores=sorted(set(students.values()))\n",
    "        \n",
    "    second_lowest_score=unique_scores[1]\n",
    "        \n",
    "    second_lowest_students=[name for name,score in students.items() if score == second_lowest_score]\n",
    "        \n",
    "        \n",
    "    second_lowest_students.sort()\n",
    "    print(\"_\"*20)\n",
    "    for s in second_lowest_students:\n",
    "        print(s)"
   ]
  },
  {
   "cell_type": "code",
   "execution_count": null,
   "id": "4518fdcb",
   "metadata": {},
   "outputs": [],
   "source": []
  }
 ],
 "metadata": {
  "kernelspec": {
   "display_name": "Python 3 (ipykernel)",
   "language": "python",
   "name": "python3"
  },
  "language_info": {
   "codemirror_mode": {
    "name": "ipython",
    "version": 3
   },
   "file_extension": ".py",
   "mimetype": "text/x-python",
   "name": "python",
   "nbconvert_exporter": "python",
   "pygments_lexer": "ipython3",
   "version": "3.9.13"
  }
 },
 "nbformat": 4,
 "nbformat_minor": 5
}
