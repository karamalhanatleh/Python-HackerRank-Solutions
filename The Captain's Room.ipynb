{
 "cells": [
  {
   "cell_type": "markdown",
   "id": "b04b78bb",
   "metadata": {},
   "source": [
    "# The Captain's Room"
   ]
  },
  {
   "cell_type": "raw",
   "id": "ffd9a725",
   "metadata": {},
   "source": [
    "Mr. Anant Asankhya is the manager at the INFINITE hotel. The hotel has an infinite amount of rooms.\n",
    "\n",
    "One fine day, a finite number of tourists come to stay at the hotel.\n",
    "The tourists consist of:\n",
    "→ A Captain.\n",
    "→ An unknown group of families consisting of  members per group where  ≠ .\n",
    "\n",
    "The Captain was given a separate room, and the rest were given one room per group.\n",
    "\n",
    "Mr. Anant has an unordered list of randomly arranged room entries. The list consists of the room numbers for all of the tourists. The room numbers will appear  times per group except for the Captain's room.\n",
    "\n",
    "Mr. Anant needs you to help him find the Captain's room number.\n",
    "The total number of tourists or the total number of groups of families is not known to you.\n",
    "You only know the value of  and the room number list.\n",
    "\n",
    "Input Format\n",
    "\n",
    "The first line consists of an integer, , the size of each group.\n",
    "The second line contains the unordered elements of the room number list.\n",
    "\n",
    "\n",
    "Constraints\n",
    "\n",
    "\n",
    "Output Format\n",
    "\n",
    "Output the Captain's room number.\n",
    "\n",
    "Sample Input\n",
    "\n",
    "5\n",
    "1 2 3 6 5 4 4 2 5 3 6 1 6 5 3 2 4 1 2 5 1 4 3 6 8 4 3 1 5 6 2 \n",
    "Sample Output\n",
    "\n",
    "8\n",
    "Explanation\n",
    "\n",
    "The list of room numbers contains  elements. Since  is , there must be  groups of families. In the given list, all of the numbers repeat  times except for room number .\n",
    "Hence,  is the Captain's room number."
   ]
  },
  {
   "cell_type": "code",
   "execution_count": null,
   "id": "9a575e7b",
   "metadata": {},
   "outputs": [],
   "source": []
  },
  {
   "cell_type": "code",
   "execution_count": 24,
   "id": "ebe0446a",
   "metadata": {
    "scrolled": true
   },
   "outputs": [
    {
     "name": "stdout",
     "output_type": "stream",
     "text": [
      "5\n",
      "1 2 3 6 5 4 4 2 5 3 6 1 6 5 3 2 4 1 2 5 1 4 3 6 8 4 3 1 5 6 2 \n",
      "8\n"
     ]
    }
   ],
   "source": [
    "def find_captain_room_number(k, room_numbers):\n",
    "    # Initialize a dictionary to count occurrences of each room number\n",
    "    count = {}\n",
    "    \n",
    "    # Count the occurrences of each room number\n",
    "    for room in room_numbers:\n",
    "        if room in count:\n",
    "            count[room] += 1\n",
    "        else:\n",
    "            count[room] = 1\n",
    "    \n",
    "    # Find and return the room number that appears exactly once\n",
    "    for room, cnt in count.items():\n",
    "        if cnt == 1:\n",
    "            return room\n",
    "\n",
    "# Input\n",
    "k = int(input())\n",
    "room_numbers = list(map(int, input().split()))\n",
    "\n",
    "# Output\n",
    "print(find_captain_room_number(k, room_numbers))\n"
   ]
  },
  {
   "cell_type": "code",
   "execution_count": null,
   "id": "b2b39b83",
   "metadata": {},
   "outputs": [],
   "source": []
  }
 ],
 "metadata": {
  "kernelspec": {
   "display_name": "Python 3 (ipykernel)",
   "language": "python",
   "name": "python3"
  },
  "language_info": {
   "codemirror_mode": {
    "name": "ipython",
    "version": 3
   },
   "file_extension": ".py",
   "mimetype": "text/x-python",
   "name": "python",
   "nbconvert_exporter": "python",
   "pygments_lexer": "ipython3",
   "version": "3.9.13"
  }
 },
 "nbformat": 4,
 "nbformat_minor": 5
}
