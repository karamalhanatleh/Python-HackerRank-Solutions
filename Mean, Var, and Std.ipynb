{
 "cells": [
  {
   "cell_type": "markdown",
   "id": "611672a1",
   "metadata": {},
   "source": [
    "# Mean, Var, and Std"
   ]
  },
  {
   "cell_type": "raw",
   "id": "b565797a",
   "metadata": {},
   "source": [
    "Task\n",
    "\n",
    "You are given a 2-D array of size X.\n",
    "Your task is to find:\n",
    "\n",
    "The mean along axis \n",
    "The var along axis \n",
    "The std along axis \n",
    "Input Format\n",
    "\n",
    "The first line contains the space separated values of  and .\n",
    "The next  lines contains  space separated integers.\n",
    "\n",
    "Output Format\n",
    "\n",
    "First, print the mean.\n",
    "Second, print the var.\n",
    "Third, print the std.\n",
    "\n",
    "Sample Input\n",
    "\n",
    "2 2\n",
    "1 2\n",
    "3 4\n",
    "Sample Output\n",
    "\n",
    "[ 1.5  3.5]\n",
    "[ 1.  1.]\n",
    "1.11803398875"
   ]
  },
  {
   "cell_type": "code",
   "execution_count": 14,
   "id": "d64ea6ae",
   "metadata": {},
   "outputs": [],
   "source": [
    "import numpy as np"
   ]
  },
  {
   "cell_type": "code",
   "execution_count": 9,
   "id": "5a965e8f",
   "metadata": {},
   "outputs": [
    {
     "name": "stdout",
     "output_type": "stream",
     "text": [
      "2 2\n"
     ]
    }
   ],
   "source": [
    "#  input dimensions\n",
    "n,m = map(int , input().split())"
   ]
  },
  {
   "cell_type": "code",
   "execution_count": 10,
   "id": "b158d20c",
   "metadata": {},
   "outputs": [
    {
     "name": "stdout",
     "output_type": "stream",
     "text": [
      "1 2\n",
      "3 4\n"
     ]
    }
   ],
   "source": [
    "# read array \n",
    "arr = = np.array([input().split() for _ in range(n)], int)"
   ]
  },
  {
   "cell_type": "code",
   "execution_count": 16,
   "id": "71282345",
   "metadata": {},
   "outputs": [
    {
     "name": "stdout",
     "output_type": "stream",
     "text": [
      "[1.5 3.5]\n",
      "[1. 1.]\n",
      "1.11803398875\n"
     ]
    }
   ],
   "source": [
    "# Calculate  mean along axis 1\n",
    "print(np.mean(arr, axis=1))\n",
    "\n",
    "# Calculate  variance along axis 0 \n",
    "print(np.var(arr, axis=0))\n",
    "\n",
    "# Calculate the standard deviation \n",
    "print(np.std(arr).round(11))\n"
   ]
  },
  {
   "cell_type": "code",
   "execution_count": null,
   "id": "2c0616bb",
   "metadata": {},
   "outputs": [],
   "source": []
  }
 ],
 "metadata": {
  "kernelspec": {
   "display_name": "Python 3 (ipykernel)",
   "language": "python",
   "name": "python3"
  },
  "language_info": {
   "codemirror_mode": {
    "name": "ipython",
    "version": 3
   },
   "file_extension": ".py",
   "mimetype": "text/x-python",
   "name": "python",
   "nbconvert_exporter": "python",
   "pygments_lexer": "ipython3",
   "version": "3.9.13"
  }
 },
 "nbformat": 4,
 "nbformat_minor": 5
}
