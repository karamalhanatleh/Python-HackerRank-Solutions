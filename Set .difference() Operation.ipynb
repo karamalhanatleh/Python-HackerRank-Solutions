{
 "cells": [
  {
   "cell_type": "raw",
   "id": "ce4240a7",
   "metadata": {},
   "source": [
    ".difference()\n",
    "The tool .difference() returns a set with all the elements from the set that are not in an iterable.\n",
    "Sometimes the - operator is used in place of the .difference() tool, but it only operates on the set of elements in set.\n",
    "Set is immutable to the .difference() operation (or the - operation).\n",
    "\n",
    ">>> s = set(\"Hacker\")\n",
    ">>> print s.difference(\"Rank\")\n",
    "set(['c', 'r', 'e', 'H'])\n",
    "\n",
    ">>> print s.difference(set(['R', 'a', 'n', 'k']))\n",
    "set(['c', 'r', 'e', 'H'])\n",
    "\n",
    ">>> print s.difference(['R', 'a', 'n', 'k'])\n",
    "set(['c', 'r', 'e', 'H'])\n",
    "\n",
    ">>> print s.difference(enumerate(['R', 'a', 'n', 'k']))\n",
    "set(['a', 'c', 'r', 'e', 'H', 'k'])\n",
    "\n",
    ">>> print s.difference({\"Rank\":1})\n",
    "set(['a', 'c', 'e', 'H', 'k', 'r'])\n",
    "\n",
    ">>> s - set(\"Rank\")\n",
    "set(['H', 'c', 'r', 'e'])\n",
    "Task\n",
    "Students of District College have a subscription to English and French newspapers. Some students have subscribed to only the English newspaper, some have subscribed to only the French newspaper, and some have subscribed to both newspapers.\n",
    "\n",
    "You are given two sets of student roll numbers. One set has subscribed to the English newspaper, and one set has subscribed to the French newspaper. Your task is to find the total number of students who have subscribed to only English newspapers.\n",
    "\n",
    "Input Format\n",
    "\n",
    "The first line contains the number of students who have subscribed to the English newspaper.\n",
    "The second line contains the space separated list of student roll numbers who have subscribed to the English newspaper.\n",
    "The third line contains the number of students who have subscribed to the French newspaper.\n",
    "The fourth line contains the space separated list of student roll numbers who have subscribed to the French newspaper.\n",
    "\n",
    "Constraints\n",
    "\n",
    "\n",
    "Output Format\n",
    "\n",
    "Output the total number of students who are subscribed to the English newspaper only.\n",
    "\n",
    "Sample Input\n",
    "\n",
    "9\n",
    "1 2 3 4 5 6 7 8 9\n",
    "9\n",
    "10 1 2 3 11 21 55 6 8\n",
    "Sample Output\n",
    "\n",
    "4"
   ]
  },
  {
   "cell_type": "code",
   "execution_count": 21,
   "id": "98ebb057",
   "metadata": {},
   "outputs": [
    {
     "name": "stdout",
     "output_type": "stream",
     "text": [
      "3\n",
      "1 2 3\n",
      "5\n",
      "2 3 4 5 1\n",
      "0\n"
     ]
    }
   ],
   "source": [
    "n = int(input())  \n",
    "english_subscribers = set(map(int, input().split())) \n",
    "\n",
    "m = int(input())  \n",
    "french_subscribers = set(map(int, input().split()))  \n",
    "\n",
    "english_only_subscribers = english_subscribers.difference(french_subscribers)\n",
    "\n",
    "print(len(english_only_subscribers))\n"
   ]
  },
  {
   "cell_type": "code",
   "execution_count": 20,
   "id": "d2b9be3c",
   "metadata": {},
   "outputs": [
    {
     "data": {
      "text/plain": [
       "4"
      ]
     },
     "execution_count": 20,
     "metadata": {},
     "output_type": "execute_result"
    }
   ],
   "source": [
    "len(s1.difference(s2))"
   ]
  },
  {
   "cell_type": "code",
   "execution_count": null,
   "id": "84ce923c",
   "metadata": {},
   "outputs": [],
   "source": []
  }
 ],
 "metadata": {
  "kernelspec": {
   "display_name": "Python 3 (ipykernel)",
   "language": "python",
   "name": "python3"
  },
  "language_info": {
   "codemirror_mode": {
    "name": "ipython",
    "version": 3
   },
   "file_extension": ".py",
   "mimetype": "text/x-python",
   "name": "python",
   "nbconvert_exporter": "python",
   "pygments_lexer": "ipython3",
   "version": "3.9.13"
  }
 },
 "nbformat": 4,
 "nbformat_minor": 5
}
