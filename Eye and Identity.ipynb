{
 "cells": [
  {
   "cell_type": "markdown",
   "id": "32180515",
   "metadata": {},
   "source": [
    "# Eye and Identity"
   ]
  },
  {
   "cell_type": "raw",
   "id": "36831ddc",
   "metadata": {},
   "source": [
    "Task\n",
    "\n",
    "Your task is to print an array of size X with its main diagonal elements as 's and 's everywhere else.\n",
    "\n",
    "Note\n",
    "\n",
    "In order to get alignment correct, please insert the line  below the numpy import.\n",
    "\n",
    "Input Format\n",
    "\n",
    "A single line containing the space separated values of  and .\n",
    " denotes the rows.\n",
    " denotes the columns.\n",
    "\n",
    "Output Format\n",
    "\n",
    "Print the desired X array.\n",
    "\n",
    "Sample Input\n",
    "\n",
    "3 3\n",
    "Sample Output\n",
    "\n",
    "[[ 1.  0.  0.]\n",
    " [ 0.  1.  0.]\n",
    " [ 0.  0.  1.]]"
   ]
  },
  {
   "cell_type": "code",
   "execution_count": 1,
   "id": "14d92c4c",
   "metadata": {},
   "outputs": [],
   "source": [
    "# imprt \n",
    "import numpy as np\n"
   ]
  },
  {
   "cell_type": "code",
   "execution_count": 2,
   "id": "6a975dd5",
   "metadata": {},
   "outputs": [],
   "source": [
    "# Set print options to match the formatting style of NumPy version 1.13 \n",
    "np.set_printoptions(legacy='1.13')"
   ]
  },
  {
   "cell_type": "code",
   "execution_count": 3,
   "id": "fe32d9d2",
   "metadata": {},
   "outputs": [
    {
     "name": "stdout",
     "output_type": "stream",
     "text": [
      "3 3\n"
     ]
    }
   ],
   "source": [
    "# Input  number of rows and columns\n",
    "n, m = map(int, input().split())"
   ]
  },
  {
   "cell_type": "code",
   "execution_count": 4,
   "id": "dc6823f2",
   "metadata": {},
   "outputs": [
    {
     "name": "stdout",
     "output_type": "stream",
     "text": [
      "[[ 1.  0.  0.]\n",
      " [ 0.  1.  0.]\n",
      " [ 0.  0.  1.]]\n"
     ]
    }
   ],
   "source": [
    "#  print identity-\n",
    "print(np.eye(n, m, k=0))\n"
   ]
  },
  {
   "cell_type": "code",
   "execution_count": null,
   "id": "c02f7e7f",
   "metadata": {},
   "outputs": [],
   "source": []
  },
  {
   "cell_type": "code",
   "execution_count": null,
   "id": "00977572",
   "metadata": {},
   "outputs": [],
   "source": []
  },
  {
   "cell_type": "code",
   "execution_count": null,
   "id": "c1054391",
   "metadata": {},
   "outputs": [],
   "source": []
  },
  {
   "cell_type": "code",
   "execution_count": null,
   "id": "82f0359e",
   "metadata": {},
   "outputs": [],
   "source": []
  },
  {
   "cell_type": "code",
   "execution_count": null,
   "id": "654c0b59",
   "metadata": {},
   "outputs": [],
   "source": []
  },
  {
   "cell_type": "code",
   "execution_count": null,
   "id": "564168d1",
   "metadata": {},
   "outputs": [],
   "source": []
  },
  {
   "cell_type": "code",
   "execution_count": null,
   "id": "58d55751",
   "metadata": {},
   "outputs": [],
   "source": []
  },
  {
   "cell_type": "code",
   "execution_count": null,
   "id": "5bc859eb",
   "metadata": {},
   "outputs": [],
   "source": []
  },
  {
   "cell_type": "code",
   "execution_count": null,
   "id": "ca4e03ed",
   "metadata": {},
   "outputs": [],
   "source": []
  }
 ],
 "metadata": {
  "kernelspec": {
   "display_name": "Python 3 (ipykernel)",
   "language": "python",
   "name": "python3"
  },
  "language_info": {
   "codemirror_mode": {
    "name": "ipython",
    "version": 3
   },
   "file_extension": ".py",
   "mimetype": "text/x-python",
   "name": "python",
   "nbconvert_exporter": "python",
   "pygments_lexer": "ipython3",
   "version": "3.9.13"
  }
 },
 "nbformat": 4,
 "nbformat_minor": 5
}
