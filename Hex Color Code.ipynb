{
 "cells": [
  {
   "cell_type": "markdown",
   "id": "eab4bdde",
   "metadata": {},
   "source": [
    "# Hex Color Code"
   ]
  },
  {
   "cell_type": "raw",
   "id": "a8e4bab7",
   "metadata": {},
   "source": [
    "CSS colors are defined using a hexadecimal (HEX) notation for the combination of Red, Green, and Blue color values (RGB).\n",
    "\n",
    "Specifications of HEX Color Code\n",
    "\n",
    "■ It must start with a '#' symbol.\n",
    "■ It can have  or  digits.\n",
    "■ Each digit is in the range of  to . ( and ).\n",
    "■  letters can be lower case. ( and  are also valid digits).\n",
    "\n",
    "Examples\n",
    "\n",
    "Valid Hex Color Codes\n",
    "#FFF \n",
    "#025 \n",
    "#F0A1FB \n",
    "\n",
    "Invalid Hex Color Codes\n",
    "#fffabg\n",
    "#abcf\n",
    "#12365erff\n",
    "You are given  lines of CSS code. Your task is to print all valid Hex Color Codes, in order of their occurrence from top to bottom.\n",
    "\n",
    "CSS Code Pattern\n",
    "\n",
    "Selector\n",
    "{\n",
    "\tProperty: Value;\n",
    "}\n",
    "Input Format\n",
    "\n",
    "The first line contains , the number of code lines.\n",
    "The next  lines contains CSS Codes.\n",
    "\n",
    "Constraints\n",
    "\n",
    "\n",
    "\n",
    "Output Format\n",
    "\n",
    "Output the color codes with '#' symbols on separate lines.\n",
    "\n",
    "Sample Input\n",
    "\n",
    "11\n",
    "#BED\n",
    "{\n",
    "    color: #FfFdF8; background-color:#aef;\n",
    "    font-size: 123px;\n",
    "    background: -webkit-linear-gradient(top, #f9f9f9, #fff);\n",
    "}\n",
    "#Cab\n",
    "{\n",
    "    background-color: #ABC;\n",
    "    border: 2px dashed #fff;\n",
    "}   \n",
    "Sample Output\n",
    "\n",
    "#FfFdF8\n",
    "#aef\n",
    "#f9f9f9\n",
    "#fff\n",
    "#ABC\n",
    "#fff\n",
    "Explanation\n",
    "\n",
    "#BED and #Cab satisfy the Hex Color Code criteria, but they are used as selectors and not as color codes in the given CSS.\n",
    "\n",
    "Hence, the valid color codes are:\n",
    "\n",
    "#FfFdF8\n",
    "#aef\n",
    "#f9f9f9\n",
    "#fff\n",
    "#ABC\n",
    "#fff\n",
    "\n",
    "Note: There are no comments ( // or /* */) in CSS Code."
   ]
  },
  {
   "cell_type": "code",
   "execution_count": null,
   "id": "c5a730ac",
   "metadata": {},
   "outputs": [],
   "source": []
  },
  {
   "cell_type": "code",
   "execution_count": 17,
   "id": "f04e672d",
   "metadata": {},
   "outputs": [],
   "source": [
    "#import paskages\n",
    "import re "
   ]
  },
  {
   "cell_type": "code",
   "execution_count": 4,
   "id": "fcf56f7c",
   "metadata": {
    "collapsed": true
   },
   "outputs": [
    {
     "name": "stdout",
     "output_type": "stream",
     "text": [
      "11\n",
      "#BED\n",
      "{\n",
      "    color: #FfFdF8; background-color:#aef;\n",
      "    font-size: 123px;\n",
      "    background: -webkit-linear-gradient(top, #f9f9f9, #fff);\n",
      "}\n",
      "#Cab\n",
      "{\n",
      "    background-color: #ABC;\n",
      "    border: 2px dashed #fff;\n",
      "}\n"
     ]
    }
   ],
   "source": [
    "n=int(input())\n",
    "css_code = [input().strip() for _ in range(n)]"
   ]
  },
  {
   "cell_type": "code",
   "execution_count": 5,
   "id": "e9e30e61",
   "metadata": {},
   "outputs": [],
   "source": [
    "inside_b=False"
   ]
  },
  {
   "cell_type": "code",
   "execution_count": 18,
   "id": "5a110c7c",
   "metadata": {},
   "outputs": [],
   "source": [
    "pattern= r'(?<!^)(#[0-9a-fA-F]{3,6})'"
   ]
  },
  {
   "cell_type": "code",
   "execution_count": 19,
   "id": "1989e486",
   "metadata": {},
   "outputs": [
    {
     "name": "stdout",
     "output_type": "stream",
     "text": [
      "#FfFdF8\n",
      "#aef\n",
      "#f9f9f9\n",
      "#fff\n",
      "#ABC\n",
      "#fff\n"
     ]
    }
   ],
   "source": [
    "# Iterate  each line of  code\n",
    "for line in css_code:\n",
    "    line=line.strip()\n",
    "    # \n",
    "    if '{' in line:\n",
    "        inside_block = True\n",
    "    # \n",
    "    if inside_block:\n",
    "        # Find  print valid hex color codes\n",
    "        matches = re.findall(pattern, line)\n",
    "        for match in matches:\n",
    "            print(match)\n",
    "    \n",
    "    # \n",
    "    if '}' in line:\n",
    "        inside_block = False\n"
   ]
  },
  {
   "cell_type": "code",
   "execution_count": null,
   "id": "7811c7ea",
   "metadata": {},
   "outputs": [],
   "source": []
  }
 ],
 "metadata": {
  "kernelspec": {
   "display_name": "Python 3 (ipykernel)",
   "language": "python",
   "name": "python3"
  },
  "language_info": {
   "codemirror_mode": {
    "name": "ipython",
    "version": 3
   },
   "file_extension": ".py",
   "mimetype": "text/x-python",
   "name": "python",
   "nbconvert_exporter": "python",
   "pygments_lexer": "ipython3",
   "version": "3.9.13"
  }
 },
 "nbformat": 4,
 "nbformat_minor": 5
}
